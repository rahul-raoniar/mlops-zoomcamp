{
 "cells": [
  {
   "cell_type": "code",
   "execution_count": 1,
   "metadata": {},
   "outputs": [],
   "source": [
    "import numpy as np\n",
    "import pandas as pd\n",
    "import matplotlib.pyplot as plt\n",
    "import seaborn as sns\n",
    "\n",
    "from sklearn.feature_extraction import DictVectorizer\n",
    "from sklearn.linear_model import LinearRegression, Lasso, Ridge\n",
    "\n",
    "from sklearn.metrics import mean_squared_error"
   ]
  },
  {
   "cell_type": "code",
   "execution_count": 2,
   "metadata": {},
   "outputs": [
    {
     "name": "stderr",
     "output_type": "stream",
     "text": [
      "2022/10/30 16:33:38 INFO mlflow.store.db.utils: Creating initial MLflow database tables...\n",
      "2022/10/30 16:33:38 INFO mlflow.store.db.utils: Updating database tables\n",
      "INFO  [alembic.runtime.migration] Context impl SQLiteImpl.\n",
      "INFO  [alembic.runtime.migration] Will assume non-transactional DDL.\n",
      "INFO  [alembic.runtime.migration] Running upgrade  -> 451aebb31d03, add metric step\n",
      "INFO  [alembic.runtime.migration] Running upgrade 451aebb31d03 -> 90e64c465722, migrate user column to tags\n",
      "INFO  [alembic.runtime.migration] Running upgrade 90e64c465722 -> 181f10493468, allow nulls for metric values\n",
      "INFO  [alembic.runtime.migration] Running upgrade 181f10493468 -> df50e92ffc5e, Add Experiment Tags Table\n",
      "INFO  [alembic.runtime.migration] Running upgrade df50e92ffc5e -> 7ac759974ad8, Update run tags with larger limit\n",
      "INFO  [alembic.runtime.migration] Running upgrade 7ac759974ad8 -> 89d4b8295536, create latest metrics table\n",
      "INFO  [89d4b8295536_create_latest_metrics_table_py] Migration complete!\n",
      "INFO  [alembic.runtime.migration] Running upgrade 89d4b8295536 -> 2b4d017a5e9b, add model registry tables to db\n",
      "INFO  [2b4d017a5e9b_add_model_registry_tables_to_db_py] Adding registered_models and model_versions tables to database.\n",
      "INFO  [2b4d017a5e9b_add_model_registry_tables_to_db_py] Migration complete!\n",
      "INFO  [alembic.runtime.migration] Running upgrade 2b4d017a5e9b -> cfd24bdc0731, Update run status constraint with killed\n",
      "INFO  [alembic.runtime.migration] Running upgrade cfd24bdc0731 -> 0a8213491aaa, drop_duplicate_killed_constraint\n",
      "INFO  [alembic.runtime.migration] Running upgrade 0a8213491aaa -> 728d730b5ebd, add registered model tags table\n",
      "INFO  [alembic.runtime.migration] Running upgrade 728d730b5ebd -> 27a6a02d2cf1, add model version tags table\n",
      "INFO  [alembic.runtime.migration] Running upgrade 27a6a02d2cf1 -> 84291f40a231, add run_link to model_version\n",
      "INFO  [alembic.runtime.migration] Running upgrade 84291f40a231 -> a8c4a736bde6, allow nulls for run_id\n",
      "INFO  [alembic.runtime.migration] Running upgrade a8c4a736bde6 -> 39d1c3be5f05, add_is_nan_constraint_for_metrics_tables_if_necessary\n",
      "INFO  [alembic.runtime.migration] Running upgrade 39d1c3be5f05 -> c48cb773bb87, reset_default_value_for_is_nan_in_metrics_table_for_mysql\n",
      "INFO  [alembic.runtime.migration] Running upgrade c48cb773bb87 -> bd07f7e963c5, create index on run_uuid\n",
      "INFO  [alembic.runtime.migration] Running upgrade bd07f7e963c5 -> 0c779009ac13, add deleted_time field to runs table\n",
      "INFO  [alembic.runtime.migration] Running upgrade 0c779009ac13 -> cc1f77228345, change param value length to 500\n",
      "INFO  [alembic.runtime.migration] Running upgrade cc1f77228345 -> 97727af70f4d, Add creation_time and last_update_time to experiments table\n",
      "INFO  [alembic.runtime.migration] Context impl SQLiteImpl.\n",
      "INFO  [alembic.runtime.migration] Will assume non-transactional DDL.\n",
      "2022/10/30 16:33:42 INFO mlflow.tracking.fluent: Experiment with name 'nyc-taxi-experiment' does not exist. Creating a new experiment.\n"
     ]
    },
    {
     "data": {
      "text/plain": [
       "<Experiment: artifact_location='./mlruns/1', creation_time=1667127822720, experiment_id='1', last_update_time=1667127822720, lifecycle_stage='active', name='nyc-taxi-experiment', tags={}>"
      ]
     },
     "execution_count": 2,
     "metadata": {},
     "output_type": "execute_result"
    }
   ],
   "source": [
    "import mlflow\n",
    "\n",
    "mlflow.set_tracking_uri(\"sqlite:///mlflow.db\")\n",
    "mlflow.set_experiment(\"nyc-taxi-experiment\")"
   ]
  },
  {
   "cell_type": "code",
   "execution_count": 3,
   "metadata": {},
   "outputs": [
    {
     "data": {
      "text/html": [
       "<div>\n",
       "<style scoped>\n",
       "    .dataframe tbody tr th:only-of-type {\n",
       "        vertical-align: middle;\n",
       "    }\n",
       "\n",
       "    .dataframe tbody tr th {\n",
       "        vertical-align: top;\n",
       "    }\n",
       "\n",
       "    .dataframe thead th {\n",
       "        text-align: right;\n",
       "    }\n",
       "</style>\n",
       "<table border=\"1\" class=\"dataframe\">\n",
       "  <thead>\n",
       "    <tr style=\"text-align: right;\">\n",
       "      <th></th>\n",
       "      <th>VendorID</th>\n",
       "      <th>lpep_pickup_datetime</th>\n",
       "      <th>lpep_dropoff_datetime</th>\n",
       "      <th>store_and_fwd_flag</th>\n",
       "      <th>RatecodeID</th>\n",
       "      <th>PULocationID</th>\n",
       "      <th>DOLocationID</th>\n",
       "      <th>passenger_count</th>\n",
       "      <th>trip_distance</th>\n",
       "      <th>fare_amount</th>\n",
       "      <th>extra</th>\n",
       "      <th>mta_tax</th>\n",
       "      <th>tip_amount</th>\n",
       "      <th>tolls_amount</th>\n",
       "      <th>ehail_fee</th>\n",
       "      <th>improvement_surcharge</th>\n",
       "      <th>total_amount</th>\n",
       "      <th>payment_type</th>\n",
       "      <th>trip_type</th>\n",
       "      <th>congestion_surcharge</th>\n",
       "    </tr>\n",
       "  </thead>\n",
       "  <tbody>\n",
       "    <tr>\n",
       "      <th>0</th>\n",
       "      <td>2</td>\n",
       "      <td>2021-01-01 00:15:56</td>\n",
       "      <td>2021-01-01 00:19:52</td>\n",
       "      <td>N</td>\n",
       "      <td>1.0</td>\n",
       "      <td>43</td>\n",
       "      <td>151</td>\n",
       "      <td>1.0</td>\n",
       "      <td>1.01</td>\n",
       "      <td>5.5</td>\n",
       "      <td>0.5</td>\n",
       "      <td>0.5</td>\n",
       "      <td>0.00</td>\n",
       "      <td>0.0</td>\n",
       "      <td>None</td>\n",
       "      <td>0.3</td>\n",
       "      <td>6.80</td>\n",
       "      <td>2.0</td>\n",
       "      <td>1.0</td>\n",
       "      <td>0.00</td>\n",
       "    </tr>\n",
       "    <tr>\n",
       "      <th>1</th>\n",
       "      <td>2</td>\n",
       "      <td>2021-01-01 00:25:59</td>\n",
       "      <td>2021-01-01 00:34:44</td>\n",
       "      <td>N</td>\n",
       "      <td>1.0</td>\n",
       "      <td>166</td>\n",
       "      <td>239</td>\n",
       "      <td>1.0</td>\n",
       "      <td>2.53</td>\n",
       "      <td>10.0</td>\n",
       "      <td>0.5</td>\n",
       "      <td>0.5</td>\n",
       "      <td>2.81</td>\n",
       "      <td>0.0</td>\n",
       "      <td>None</td>\n",
       "      <td>0.3</td>\n",
       "      <td>16.86</td>\n",
       "      <td>1.0</td>\n",
       "      <td>1.0</td>\n",
       "      <td>2.75</td>\n",
       "    </tr>\n",
       "    <tr>\n",
       "      <th>2</th>\n",
       "      <td>2</td>\n",
       "      <td>2021-01-01 00:45:57</td>\n",
       "      <td>2021-01-01 00:51:55</td>\n",
       "      <td>N</td>\n",
       "      <td>1.0</td>\n",
       "      <td>41</td>\n",
       "      <td>42</td>\n",
       "      <td>1.0</td>\n",
       "      <td>1.12</td>\n",
       "      <td>6.0</td>\n",
       "      <td>0.5</td>\n",
       "      <td>0.5</td>\n",
       "      <td>1.00</td>\n",
       "      <td>0.0</td>\n",
       "      <td>None</td>\n",
       "      <td>0.3</td>\n",
       "      <td>8.30</td>\n",
       "      <td>1.0</td>\n",
       "      <td>1.0</td>\n",
       "      <td>0.00</td>\n",
       "    </tr>\n",
       "    <tr>\n",
       "      <th>3</th>\n",
       "      <td>2</td>\n",
       "      <td>2020-12-31 23:57:51</td>\n",
       "      <td>2021-01-01 00:04:56</td>\n",
       "      <td>N</td>\n",
       "      <td>1.0</td>\n",
       "      <td>168</td>\n",
       "      <td>75</td>\n",
       "      <td>1.0</td>\n",
       "      <td>1.99</td>\n",
       "      <td>8.0</td>\n",
       "      <td>0.5</td>\n",
       "      <td>0.5</td>\n",
       "      <td>0.00</td>\n",
       "      <td>0.0</td>\n",
       "      <td>None</td>\n",
       "      <td>0.3</td>\n",
       "      <td>9.30</td>\n",
       "      <td>2.0</td>\n",
       "      <td>1.0</td>\n",
       "      <td>0.00</td>\n",
       "    </tr>\n",
       "    <tr>\n",
       "      <th>4</th>\n",
       "      <td>2</td>\n",
       "      <td>2021-01-01 00:16:36</td>\n",
       "      <td>2021-01-01 00:16:40</td>\n",
       "      <td>N</td>\n",
       "      <td>2.0</td>\n",
       "      <td>265</td>\n",
       "      <td>265</td>\n",
       "      <td>3.0</td>\n",
       "      <td>0.00</td>\n",
       "      <td>-52.0</td>\n",
       "      <td>0.0</td>\n",
       "      <td>-0.5</td>\n",
       "      <td>0.00</td>\n",
       "      <td>0.0</td>\n",
       "      <td>None</td>\n",
       "      <td>-0.3</td>\n",
       "      <td>-52.80</td>\n",
       "      <td>3.0</td>\n",
       "      <td>1.0</td>\n",
       "      <td>0.00</td>\n",
       "    </tr>\n",
       "  </tbody>\n",
       "</table>\n",
       "</div>"
      ],
      "text/plain": [
       "   VendorID lpep_pickup_datetime lpep_dropoff_datetime store_and_fwd_flag  \\\n",
       "0         2  2021-01-01 00:15:56   2021-01-01 00:19:52                  N   \n",
       "1         2  2021-01-01 00:25:59   2021-01-01 00:34:44                  N   \n",
       "2         2  2021-01-01 00:45:57   2021-01-01 00:51:55                  N   \n",
       "3         2  2020-12-31 23:57:51   2021-01-01 00:04:56                  N   \n",
       "4         2  2021-01-01 00:16:36   2021-01-01 00:16:40                  N   \n",
       "\n",
       "   RatecodeID  PULocationID  DOLocationID  passenger_count  trip_distance  \\\n",
       "0         1.0            43           151              1.0           1.01   \n",
       "1         1.0           166           239              1.0           2.53   \n",
       "2         1.0            41            42              1.0           1.12   \n",
       "3         1.0           168            75              1.0           1.99   \n",
       "4         2.0           265           265              3.0           0.00   \n",
       "\n",
       "   fare_amount  extra  mta_tax  tip_amount  tolls_amount ehail_fee  \\\n",
       "0          5.5    0.5      0.5        0.00           0.0      None   \n",
       "1         10.0    0.5      0.5        2.81           0.0      None   \n",
       "2          6.0    0.5      0.5        1.00           0.0      None   \n",
       "3          8.0    0.5      0.5        0.00           0.0      None   \n",
       "4        -52.0    0.0     -0.5        0.00           0.0      None   \n",
       "\n",
       "   improvement_surcharge  total_amount  payment_type  trip_type  \\\n",
       "0                    0.3          6.80           2.0        1.0   \n",
       "1                    0.3         16.86           1.0        1.0   \n",
       "2                    0.3          8.30           1.0        1.0   \n",
       "3                    0.3          9.30           2.0        1.0   \n",
       "4                   -0.3        -52.80           3.0        1.0   \n",
       "\n",
       "   congestion_surcharge  \n",
       "0                  0.00  \n",
       "1                  2.75  \n",
       "2                  0.00  \n",
       "3                  0.00  \n",
       "4                  0.00  "
      ]
     },
     "execution_count": 3,
     "metadata": {},
     "output_type": "execute_result"
    }
   ],
   "source": [
    "df = pd.read_parquet(\"./data/green_tripdata_2021-01.parquet\")\n",
    "\n",
    "df.head()"
   ]
  },
  {
   "cell_type": "code",
   "execution_count": 4,
   "metadata": {},
   "outputs": [],
   "source": [
    "# !pip install pyarrow"
   ]
  },
  {
   "cell_type": "code",
   "execution_count": 5,
   "metadata": {},
   "outputs": [],
   "source": [
    "# !pip install fastparquet"
   ]
  },
  {
   "cell_type": "code",
   "execution_count": 6,
   "metadata": {},
   "outputs": [],
   "source": [
    "def prepare_df(filename):\n",
    "    if filename.endswith(\".csv\"):\n",
    "        df = pd.read_csv(filename)\n",
    "        df[\"lpep_pickup_datetime\"] = pd.to_datetime(df[\"lpep_pickup_datetime\"])\n",
    "        df[\"lpep_dropoff_datetime\"] = pd.to_datetime(df[\"lpep_dropoff_datetime\"])\n",
    "    elif filename.endswith(\".parquet\"):\n",
    "        df = pd.read_parquet(filename)\n",
    "        \n",
    "    df['duration'] = df[\"lpep_dropoff_datetime\"] - df[\"lpep_pickup_datetime\"]\n",
    "    df['duration'] = df['duration'].apply(lambda td: td.total_seconds()/60)\n",
    "    df = df.loc[(df['duration']>=1) & (df['duration']<=60),:]\n",
    "    \n",
    "    categorical = ['PULocationID', 'DOLocationID']\n",
    "    df[categorical] = df[categorical].astype(str)\n",
    "    \n",
    "    return df\n",
    "    \n",
    "        "
   ]
  },
  {
   "cell_type": "code",
   "execution_count": 7,
   "metadata": {},
   "outputs": [],
   "source": [
    "df_train = prepare_df('./data/green_tripdata_2022-01.parquet')\n",
    "df_val = prepare_df('./data/green_tripdata_2022-02.parquet')"
   ]
  },
  {
   "cell_type": "code",
   "execution_count": 8,
   "metadata": {},
   "outputs": [
    {
     "data": {
      "text/plain": [
       "<seaborn.axisgrid.FacetGrid at 0x7f65f4ce99a0>"
      ]
     },
     "execution_count": 8,
     "metadata": {},
     "output_type": "execute_result"
    },
    {
     "data": {
      "image/png": "[encoded data removed]",
      "text/plain": [
       "<Figure size 608.625x500 with 1 Axes>"
      ]
     },
     "metadata": {},
     "output_type": "display_data"
    }
   ],
   "source": [
    "# Exploratory analysis\n",
    "\n",
    "sns.displot(df_train.loc[((df_train['duration']>=1) & (df_train['duration']<=60)), ['duration']])"
   ]
  },
  {
   "cell_type": "code",
   "execution_count": 9,
   "metadata": {},
   "outputs": [
    {
     "data": {
      "text/plain": [
       "(59603, 66097)"
      ]
     },
     "execution_count": 9,
     "metadata": {},
     "output_type": "execute_result"
    }
   ],
   "source": [
    "len(df_train), len(df_val)"
   ]
  },
  {
   "cell_type": "code",
   "execution_count": 10,
   "metadata": {},
   "outputs": [],
   "source": [
    "df_train[\"PU_DO\"] = df_train[\"PULocationID\"] + \"_\" + df_train[\"DOLocationID\"]\n",
    "df_val[\"PU_DO\"] = df_val[\"PULocationID\"] + \"_\" + df_val[\"DOLocationID\"]\n"
   ]
  },
  {
   "cell_type": "code",
   "execution_count": 11,
   "metadata": {},
   "outputs": [
    {
     "name": "stdout",
     "output_type": "stream",
     "text": [
      "<class 'pandas.core.frame.DataFrame'>\n",
      "Int64Index: 59603 entries, 0 to 62494\n",
      "Data columns (total 22 columns):\n",
      " #   Column                 Non-Null Count  Dtype         \n",
      "---  ------                 --------------  -----         \n",
      " 0   VendorID               59603 non-null  int64         \n",
      " 1   lpep_pickup_datetime   59603 non-null  datetime64[ns]\n",
      " 2   lpep_dropoff_datetime  59603 non-null  datetime64[ns]\n",
      " 3   store_and_fwd_flag     53367 non-null  object        \n",
      " 4   RatecodeID             53367 non-null  float64       \n",
      " 5   PULocationID           59603 non-null  object        \n",
      " 6   DOLocationID           59603 non-null  object        \n",
      " 7   passenger_count        53367 non-null  float64       \n",
      " 8   trip_distance          59603 non-null  float64       \n",
      " 9   fare_amount            59603 non-null  float64       \n",
      " 10  extra                  59603 non-null  float64       \n",
      " 11  mta_tax                59603 non-null  float64       \n",
      " 12  tip_amount             59603 non-null  float64       \n",
      " 13  tolls_amount           59603 non-null  float64       \n",
      " 14  ehail_fee              0 non-null      object        \n",
      " 15  improvement_surcharge  59603 non-null  float64       \n",
      " 16  total_amount           59603 non-null  float64       \n",
      " 17  payment_type           53367 non-null  float64       \n",
      " 18  trip_type              53367 non-null  float64       \n",
      " 19  congestion_surcharge   53367 non-null  float64       \n",
      " 20  duration               59603 non-null  float64       \n",
      " 21  PU_DO                  59603 non-null  object        \n",
      "dtypes: datetime64[ns](2), float64(14), int64(1), object(5)\n",
      "memory usage: 10.5+ MB\n"
     ]
    }
   ],
   "source": [
    "df_train.info()"
   ]
  },
  {
   "cell_type": "code",
   "execution_count": 12,
   "metadata": {},
   "outputs": [],
   "source": [
    "categorical = [\"PU_DO\"]\n",
    "numerical = [\"trip_distance\"]\n",
    "\n",
    "dv = DictVectorizer()\n",
    "train_dicts = df_train[categorical + numerical].to_dict(orient='records')\n",
    "val_dicts = df_val[categorical + numerical].to_dict(orient='records')\n",
    "\n",
    "X_train = dv.fit_transform(train_dicts)\n",
    "X_val = dv.transform(val_dicts)"
   ]
  },
  {
   "cell_type": "code",
   "execution_count": 13,
   "metadata": {},
   "outputs": [],
   "source": [
    "target = 'duration'\n",
    "y_train = df_train[target].values\n",
    "y_val = df_val[target].values"
   ]
  },
  {
   "cell_type": "code",
   "execution_count": 14,
   "metadata": {},
   "outputs": [
    {
     "data": {
      "text/plain": [
       "6.92893123431991"
      ]
     },
     "execution_count": 14,
     "metadata": {},
     "output_type": "execute_result"
    }
   ],
   "source": [
    "lr = LinearRegression()\n",
    "lr.fit(X_train, y_train)\n",
    "\n",
    "y_pred = lr.predict(X_val)\n",
    "mean_squared_error(y_val, y_pred, squared = False)\n"
   ]
  },
  {
   "cell_type": "code",
   "execution_count": 15,
   "metadata": {},
   "outputs": [
    {
     "data": {
      "text/plain": [
       "7.475775217343405"
      ]
     },
     "execution_count": 15,
     "metadata": {},
     "output_type": "execute_result"
    }
   ],
   "source": [
    "lr = Lasso(0.001)\n",
    "lr.fit(X_train, y_train)\n",
    "\n",
    "y_pred = lr.predict(X_val)\n",
    "\n",
    "# Estimate RMSE\n",
    "mean_squared_error(y_val, y_pred, squared = False)"
   ]
  },
  {
   "cell_type": "code",
   "execution_count": 16,
   "metadata": {},
   "outputs": [],
   "source": [
    "import pickle\n",
    "\n",
    "with open('./models/lin_reg.bin', 'wb') as f_out:\n",
    "    pickle.dump((dv, lr), f_out)"
   ]
  },
  {
   "cell_type": "code",
   "execution_count": 17,
   "metadata": {},
   "outputs": [
    {
     "data": {
      "text/plain": [
       "9.987741338419413"
      ]
     },
     "execution_count": 17,
     "metadata": {},
     "output_type": "execute_result"
    }
   ],
   "source": [
    "lr = Ridge(0.1)\n",
    "lr.fit(X_train, y_train)\n",
    "\n",
    "y_pred = lr.predict(X_val)\n",
    "mean_squared_error(y_val, y_pred, squared = False)"
   ]
  },
  {
   "cell_type": "markdown",
   "metadata": {},
   "source": [
    "### mlflow lesso regression exp-tracking"
   ]
  },
  {
   "cell_type": "code",
   "execution_count": 18,
   "metadata": {},
   "outputs": [],
   "source": [
    "with mlflow.start_run():\n",
    "    \n",
    "    mlflow.set_tag('developer', 'Rahul')\n",
    "    mlflow.log_param('train-data-path', './data/green_tripdata_2022-01.parquet')\n",
    "    mlflow.log_param('val-data-path', './data/green_tripdata_2022-02.parquet')\n",
    "    \n",
    "    alpha = 0.3\n",
    "    lr = Lasso(alpha)\n",
    "    lr.fit(X_train, y_train)\n",
    "\n",
    "    y_pred = lr.predict(X_val)\n",
    "    rmse = mean_squared_error(y_val, y_pred, squared = False)\n",
    "    mlflow.log_metric('rmse', rmse)"
   ]
  },
  {
   "cell_type": "code",
   "execution_count": 19,
   "metadata": {},
   "outputs": [],
   "source": [
    "import xgboost as xgb\n",
    "from hyperopt import fmin, tpe, hp, STATUS_OK, Trials\n",
    "from hyperopt.pyll import scope"
   ]
  },
  {
   "cell_type": "code",
   "execution_count": 20,
   "metadata": {},
   "outputs": [],
   "source": [
    "train = xgb.DMatrix(X_train, label = y_train)\n",
    "valid = xgb.DMatrix(X_val, label = y_val)"
   ]
  },
  {
   "cell_type": "code",
   "execution_count": 21,
   "metadata": {},
   "outputs": [],
   "source": [
    "def objective(params):\n",
    "    with mlflow.start_run():\n",
    "        mlflow.set_tag('model', 'xgboost')\n",
    "        mlflow.log_params(params)\n",
    "        \n",
    "        booster = xgb.train(\n",
    "            params = params,\n",
    "            dtrain = train,\n",
    "            num_boost_round = 50,\n",
    "            evals = [(valid, 'validation')],\n",
    "            early_stopping_rounds = 50\n",
    "        )\n",
    "        \n",
    "        y_pred = booster.predict(valid)\n",
    "        rmse = mean_squared_error(y_val, y_pred, squared=False)\n",
    "        mlflow.log_metric('rmse', rmse)\n",
    "        \n",
    "        \n",
    "    return {'loss': rmse, 'status': STATUS_OK}\n",
    "\n"
   ]
  },
  {
   "cell_type": "code",
   "execution_count": 22,
   "metadata": {},
   "outputs": [
    {
     "name": "stdout",
     "output_type": "stream",
     "text": [
      "[16:34:16] WARNING: ../src/objective/regression_obj.cu:203: reg:linear is now deprecated in favor of reg:squarederror.\n",
      "[0]\tvalidation-rmse:14.78872                          \n",
      "[1]\tvalidation-rmse:12.68138                          \n",
      "[2]\tvalidation-rmse:11.03683                          \n",
      "[3]\tvalidation-rmse:9.77440                           \n",
      "[4]\tvalidation-rmse:8.80259                           \n",
      "[5]\tvalidation-rmse:8.05555                           \n",
      "[6]\tvalidation-rmse:7.50663                           \n",
      "[7]\tvalidation-rmse:7.09962                           \n",
      "[8]\tvalidation-rmse:6.78822                           \n",
      "[9]\tvalidation-rmse:6.57570                           \n",
      "[10]\tvalidation-rmse:6.41547                          \n",
      "[11]\tvalidation-rmse:6.29301                          \n",
      "[12]\tvalidation-rmse:6.20905                          \n",
      "[13]\tvalidation-rmse:6.13877                          \n",
      "[14]\tvalidation-rmse:6.08268                          \n",
      "[15]\tvalidation-rmse:6.05036                          \n",
      "[16]\tvalidation-rmse:6.02573                          \n",
      "[17]\tvalidation-rmse:6.00236                          \n",
      "[18]\tvalidation-rmse:5.99106                          \n",
      "[19]\tvalidation-rmse:5.97648                          \n",
      "[20]\tvalidation-rmse:5.96760                          \n",
      "[21]\tvalidation-rmse:5.96034                          \n",
      "[22]\tvalidation-rmse:5.95280                          \n",
      "[23]\tvalidation-rmse:5.94990                          \n",
      "[24]\tvalidation-rmse:5.94766                          \n",
      "[25]\tvalidation-rmse:5.94408                          \n",
      "[26]\tvalidation-rmse:5.94230                          \n",
      "[27]\tvalidation-rmse:5.93798                          \n",
      "[28]\tvalidation-rmse:5.93536                          \n",
      "[29]\tvalidation-rmse:5.93354                          \n",
      "[30]\tvalidation-rmse:5.93088                          \n",
      "[31]\tvalidation-rmse:5.92744                          \n",
      "[32]\tvalidation-rmse:5.92492                          \n",
      "[33]\tvalidation-rmse:5.92320                          \n",
      "[34]\tvalidation-rmse:5.92275                          \n",
      "[35]\tvalidation-rmse:5.92114                          \n",
      "[36]\tvalidation-rmse:5.92061                          \n",
      "[37]\tvalidation-rmse:5.91922                          \n",
      "[38]\tvalidation-rmse:5.91865                          \n",
      "[39]\tvalidation-rmse:5.91793                          \n",
      "[40]\tvalidation-rmse:5.91739                          \n",
      "[41]\tvalidation-rmse:5.91572                          \n",
      "[42]\tvalidation-rmse:5.91562                          \n",
      "[43]\tvalidation-rmse:5.91447                          \n",
      "[44]\tvalidation-rmse:5.91396                          \n",
      "[45]\tvalidation-rmse:5.91409                          \n",
      "[46]\tvalidation-rmse:5.91159                          \n",
      "[47]\tvalidation-rmse:5.91197                          \n",
      "[48]\tvalidation-rmse:5.91153                          \n",
      "[49]\tvalidation-rmse:5.91160                          \n",
      "[16:34:58] WARNING: ../src/objective/regression_obj.cu:203: reg:linear is now deprecated in favor of reg:squarederror.\n",
      "[0]\tvalidation-rmse:12.97738                                                   \n",
      "[1]\tvalidation-rmse:10.13485                                                   \n",
      "[2]\tvalidation-rmse:8.38821                                                    \n",
      "[3]\tvalidation-rmse:7.36805                                                    \n",
      "[4]\tvalidation-rmse:6.78930                                                    \n",
      "[5]\tvalidation-rmse:6.45744                                                    \n",
      "[6]\tvalidation-rmse:6.26867                                                    \n",
      "[7]\tvalidation-rmse:6.15553                                                    \n",
      "[8]\tvalidation-rmse:6.08232                                                    \n",
      "[9]\tvalidation-rmse:6.03702                                                    \n",
      "[10]\tvalidation-rmse:6.01035                                                   \n",
      "[11]\tvalidation-rmse:5.99663                                                   \n",
      "[12]\tvalidation-rmse:5.98599                                                   \n",
      "[13]\tvalidation-rmse:5.97952                                                   \n",
      "[14]\tvalidation-rmse:5.97258                                                   \n",
      "[15]\tvalidation-rmse:5.96833                                                   \n",
      "[16]\tvalidation-rmse:5.96462                                                   \n",
      "[17]\tvalidation-rmse:5.96296                                                   \n",
      "[18]\tvalidation-rmse:5.95921                                                   \n",
      "[19]\tvalidation-rmse:5.95671                                                   \n",
      "[20]\tvalidation-rmse:5.95124                                                   \n",
      "[21]\tvalidation-rmse:5.94844                                                   \n",
      "[22]\tvalidation-rmse:5.94713                                                   \n",
      "[23]\tvalidation-rmse:5.94704                                                   \n",
      "[24]\tvalidation-rmse:5.94525                                                   \n",
      "[25]\tvalidation-rmse:5.94403                                                   \n",
      "[26]\tvalidation-rmse:5.94296                                                   \n",
      "[27]\tvalidation-rmse:5.94214                                                   \n",
      "[28]\tvalidation-rmse:5.93978                                                   \n",
      "[29]\tvalidation-rmse:5.93622                                                   \n",
      "[30]\tvalidation-rmse:5.93504                                                   \n",
      "[31]\tvalidation-rmse:5.93242                                                   \n",
      "[32]\tvalidation-rmse:5.93090                                                   \n",
      "[33]\tvalidation-rmse:5.92920                                                   \n",
      "[34]\tvalidation-rmse:5.92739                                                   \n",
      "[35]\tvalidation-rmse:5.92620                                                   \n",
      "[36]\tvalidation-rmse:5.92404                                                   \n",
      "[37]\tvalidation-rmse:5.92197                                                   \n",
      "[38]\tvalidation-rmse:5.92164                                                   \n",
      "[39]\tvalidation-rmse:5.92101                                                   \n",
      "[40]\tvalidation-rmse:5.91959                                                   \n",
      "[41]\tvalidation-rmse:5.91567                                                   \n",
      "[42]\tvalidation-rmse:5.91336                                                   \n",
      "[43]\tvalidation-rmse:5.91217                                                   \n",
      "[44]\tvalidation-rmse:5.90841                                                   \n",
      "[45]\tvalidation-rmse:5.90720                                                   \n",
      "[46]\tvalidation-rmse:5.90618                                                   \n",
      "[47]\tvalidation-rmse:5.90460                                                   \n",
      "[48]\tvalidation-rmse:5.90285                                                   \n",
      "[49]\tvalidation-rmse:5.90145                                                   \n",
      "[16:35:14] WARNING: ../src/objective/regression_obj.cu:203: reg:linear is now deprecated in favor of reg:squarederror.\n",
      "[0]\tvalidation-rmse:13.76584                                                   \n",
      "[1]\tvalidation-rmse:11.18060                                                   \n",
      "[2]\tvalidation-rmse:9.40891                                                    \n",
      "[3]\tvalidation-rmse:8.22675                                                    \n",
      "[4]\tvalidation-rmse:7.46202                                                    \n",
      "[5]\tvalidation-rmse:6.97577                                                    \n",
      "[6]\tvalidation-rmse:6.66880                                                    \n",
      "[7]\tvalidation-rmse:6.47072                                                    \n",
      "[8]\tvalidation-rmse:6.34479                                                    \n",
      "[9]\tvalidation-rmse:6.26539                                                    \n",
      "[10]\tvalidation-rmse:6.21257                                                   \n",
      "[11]\tvalidation-rmse:6.17792                                                   \n",
      "[12]\tvalidation-rmse:6.15449                                                   \n",
      "[13]\tvalidation-rmse:6.13783                                                   \n",
      "[14]\tvalidation-rmse:6.12318                                                   \n",
      "[15]\tvalidation-rmse:6.11117                                                   \n",
      "[16]\tvalidation-rmse:6.09991                                                   \n",
      "[17]\tvalidation-rmse:6.08798                                                   \n",
      "[18]\tvalidation-rmse:6.07898                                                   \n",
      "[19]\tvalidation-rmse:6.07000                                                   \n",
      "[20]\tvalidation-rmse:6.06516                                                   \n",
      "[21]\tvalidation-rmse:6.06218                                                   \n",
      "[22]\tvalidation-rmse:6.05989                                                   \n",
      "[23]\tvalidation-rmse:6.05809                                                   \n",
      "[24]\tvalidation-rmse:6.05688                                                   \n",
      "[25]\tvalidation-rmse:6.05479                                                   \n",
      "[26]\tvalidation-rmse:6.05451                                                   \n",
      "[27]\tvalidation-rmse:6.05459                                                   \n",
      "[28]\tvalidation-rmse:6.05482                                                   \n",
      "[29]\tvalidation-rmse:6.05425                                                   \n",
      "[30]\tvalidation-rmse:6.05441                                                   \n",
      "[31]\tvalidation-rmse:6.05259                                                   \n",
      "[32]\tvalidation-rmse:6.05221                                                   \n",
      "[33]\tvalidation-rmse:6.05158                                                   \n",
      "[34]\tvalidation-rmse:6.05170                                                   \n",
      "[35]\tvalidation-rmse:6.05102                                                   \n",
      "[36]\tvalidation-rmse:6.05004                                                   \n",
      "[37]\tvalidation-rmse:6.04973                                                   \n",
      "[38]\tvalidation-rmse:6.04969                                                   \n",
      "[39]\tvalidation-rmse:6.04950                                                   \n",
      "[40]\tvalidation-rmse:6.04960                                                   \n",
      "[41]\tvalidation-rmse:6.04881                                                   \n",
      "[42]\tvalidation-rmse:6.04912                                                   \n",
      "[43]\tvalidation-rmse:6.04906                                                   \n",
      "[44]\tvalidation-rmse:6.04907                                                   \n",
      "[45]\tvalidation-rmse:6.04961                                                   \n",
      "[46]\tvalidation-rmse:6.04972                                                   \n",
      "[47]\tvalidation-rmse:6.04968                                                   \n",
      "[48]\tvalidation-rmse:6.04934                                                   \n",
      "[49]\tvalidation-rmse:6.04973                                                   \n",
      "[16:36:06] WARNING: ../src/objective/regression_obj.cu:203: reg:linear is now deprecated in favor of reg:squarederror.\n",
      "[0]\tvalidation-rmse:7.76787                                                    \n",
      "[1]\tvalidation-rmse:6.27494                                                    \n",
      "[2]\tvalidation-rmse:6.04555                                                    \n",
      "[3]\tvalidation-rmse:6.00054                                                    \n",
      "[4]\tvalidation-rmse:5.97861                                                    \n",
      "[5]\tvalidation-rmse:5.96162                                                    \n",
      "[6]\tvalidation-rmse:5.95944                                                    \n",
      "[7]\tvalidation-rmse:5.95703                                                    \n",
      "[8]\tvalidation-rmse:5.95637                                                    \n",
      "[9]\tvalidation-rmse:5.95337                                                    \n",
      "[10]\tvalidation-rmse:5.95270                                                   \n",
      "[11]\tvalidation-rmse:5.95216                                                   \n",
      "[12]\tvalidation-rmse:5.95691                                                   \n",
      "[13]\tvalidation-rmse:5.95565                                                   \n",
      "[14]\tvalidation-rmse:5.95828                                                   \n",
      "[15]\tvalidation-rmse:5.95854                                                   \n",
      "[16]\tvalidation-rmse:5.96424                                                   \n",
      "[17]\tvalidation-rmse:5.96756                                                   \n",
      "[18]\tvalidation-rmse:5.97717                                                   \n",
      "[19]\tvalidation-rmse:5.97854                                                   \n",
      "[20]\tvalidation-rmse:5.97838                                                   \n",
      "[21]\tvalidation-rmse:5.98105                                                   \n",
      "[22]\tvalidation-rmse:5.98074                                                   \n",
      "[23]\tvalidation-rmse:5.98414                                                   \n",
      "[24]\tvalidation-rmse:5.98530                                                   \n",
      "[25]\tvalidation-rmse:5.99091                                                   \n",
      "[26]\tvalidation-rmse:5.99239                                                   \n",
      "[27]\tvalidation-rmse:5.99310                                                   \n",
      "[28]\tvalidation-rmse:5.99119                                                   \n",
      "[29]\tvalidation-rmse:5.99533                                                   \n",
      "[30]\tvalidation-rmse:5.99750                                                   \n",
      "[31]\tvalidation-rmse:5.99975                                                   \n",
      "[32]\tvalidation-rmse:6.00299                                                   \n",
      "[33]\tvalidation-rmse:6.00321                                                   \n",
      "[34]\tvalidation-rmse:6.00341                                                   \n",
      "[35]\tvalidation-rmse:6.00763                                                   \n",
      "[36]\tvalidation-rmse:6.00975                                                   \n",
      "[37]\tvalidation-rmse:6.01431                                                   \n",
      "[38]\tvalidation-rmse:6.01356                                                   \n",
      "[39]\tvalidation-rmse:6.01493                                                   \n",
      "[40]\tvalidation-rmse:6.01511                                                   \n",
      "[41]\tvalidation-rmse:6.01597                                                   \n",
      "[42]\tvalidation-rmse:6.01866                                                   \n",
      "[43]\tvalidation-rmse:6.01830                                                   \n",
      "[44]\tvalidation-rmse:6.01727                                                   \n",
      "[45]\tvalidation-rmse:6.02063                                                   \n",
      "[46]\tvalidation-rmse:6.02771                                                   \n",
      "[47]\tvalidation-rmse:6.02853                                                   \n",
      "[48]\tvalidation-rmse:6.02922                                                   \n",
      "[49]\tvalidation-rmse:6.02957                                                   \n",
      "[16:36:38] WARNING: ../src/objective/regression_obj.cu:203: reg:linear is now deprecated in favor of reg:squarederror.\n",
      "[0]\tvalidation-rmse:11.23493                                                   \n",
      "[1]\tvalidation-rmse:8.27887                                                    \n",
      "[2]\tvalidation-rmse:7.00859                                                    \n",
      "[3]\tvalidation-rmse:6.49447                                                    \n",
      "[4]\tvalidation-rmse:6.27562                                                    \n",
      "[5]\tvalidation-rmse:6.18082                                                    \n",
      "[6]\tvalidation-rmse:6.13696                                                    \n",
      "[7]\tvalidation-rmse:6.11324                                                    \n",
      "[8]\tvalidation-rmse:6.09430                                                    \n",
      "[9]\tvalidation-rmse:6.07757                                                    \n",
      "[10]\tvalidation-rmse:6.07386                                                   \n",
      "[11]\tvalidation-rmse:6.06955                                                   \n",
      "[12]\tvalidation-rmse:6.06246                                                   \n",
      "[13]\tvalidation-rmse:6.06052                                                   \n",
      "[14]\tvalidation-rmse:6.05547                                                   \n",
      "[15]\tvalidation-rmse:6.05437                                                   \n",
      "[16]\tvalidation-rmse:6.05162                                                   \n",
      "[17]\tvalidation-rmse:6.05028                                                   \n",
      "[18]\tvalidation-rmse:6.05147                                                   \n",
      "[19]\tvalidation-rmse:6.05034                                                   \n",
      "[20]\tvalidation-rmse:6.04936                                                   \n",
      "[21]\tvalidation-rmse:6.04909                                                   \n",
      "[22]\tvalidation-rmse:6.04959                                                   \n",
      "[23]\tvalidation-rmse:6.04918                                                   \n",
      "[24]\tvalidation-rmse:6.05042                                                   \n",
      "[25]\tvalidation-rmse:6.05008                                                   \n",
      "[26]\tvalidation-rmse:6.05074                                                   \n",
      "[27]\tvalidation-rmse:6.05010                                                   \n",
      "[28]\tvalidation-rmse:6.05044                                                   \n",
      "[29]\tvalidation-rmse:6.04924                                                   \n",
      "[30]\tvalidation-rmse:6.04964                                                   \n",
      "[31]\tvalidation-rmse:6.04954                                                   \n",
      "[32]\tvalidation-rmse:6.05101                                                   \n",
      "[33]\tvalidation-rmse:6.05041                                                   \n",
      "[34]\tvalidation-rmse:6.04992                                                   \n",
      "[35]\tvalidation-rmse:6.04958                                                   \n",
      "[36]\tvalidation-rmse:6.04920                                                   \n",
      "[37]\tvalidation-rmse:6.04950                                                   \n",
      "[38]\tvalidation-rmse:6.05044                                                   \n",
      "[39]\tvalidation-rmse:6.04921                                                   \n",
      "[40]\tvalidation-rmse:6.04976                                                   \n",
      "[41]\tvalidation-rmse:6.04676                                                   \n",
      "[42]\tvalidation-rmse:6.04678                                                   \n",
      "[43]\tvalidation-rmse:6.04665                                                   \n",
      "[44]\tvalidation-rmse:6.04574                                                   \n",
      "[45]\tvalidation-rmse:6.04623                                                   \n",
      "[46]\tvalidation-rmse:6.04640                                                   \n",
      "[47]\tvalidation-rmse:6.04513                                                   \n",
      "[48]\tvalidation-rmse:6.04558                                                   \n",
      "[49]\tvalidation-rmse:6.04580                                                   \n",
      "[16:36:59] WARNING: ../src/objective/regression_obj.cu:203: reg:linear is now deprecated in favor of reg:squarederror.\n",
      "[0]\tvalidation-rmse:15.91024                                                   \n",
      "[1]\tvalidation-rmse:14.55882                                                   \n",
      "[2]\tvalidation-rmse:13.37262                                                   \n",
      "[3]\tvalidation-rmse:12.33407                                                   \n",
      "[4]\tvalidation-rmse:11.42656                                                   \n",
      "[5]\tvalidation-rmse:10.63723                                                   \n",
      "[6]\tvalidation-rmse:9.95468                                                    \n",
      "[7]\tvalidation-rmse:9.36438                                                    \n",
      "[8]\tvalidation-rmse:8.85681                                                    \n",
      "[9]\tvalidation-rmse:8.42213                                                    \n",
      "[10]\tvalidation-rmse:8.05189                                                   \n",
      "[11]\tvalidation-rmse:7.73740                                                   \n",
      "[12]\tvalidation-rmse:7.47148                                                   \n",
      "[13]\tvalidation-rmse:7.24608                                                   \n",
      "[14]\tvalidation-rmse:7.05573                                                   \n",
      "[15]\tvalidation-rmse:6.89522                                                   \n",
      "[16]\tvalidation-rmse:6.76017                                                   \n",
      "[17]\tvalidation-rmse:6.64700                                                   \n",
      "[18]\tvalidation-rmse:6.55099                                                   \n",
      "[19]\tvalidation-rmse:6.47062                                                   \n",
      "[20]\tvalidation-rmse:6.40254                                                   \n",
      "[21]\tvalidation-rmse:6.34539                                                   \n",
      "[22]\tvalidation-rmse:6.29670                                                   \n",
      "[23]\tvalidation-rmse:6.25458                                                   \n",
      "[24]\tvalidation-rmse:6.21757                                                   \n",
      "[25]\tvalidation-rmse:6.18641                                                   \n",
      "[26]\tvalidation-rmse:6.16084                                                   \n",
      "[27]\tvalidation-rmse:6.13848                                                   \n",
      "[28]\tvalidation-rmse:6.11871                                                   \n",
      "[29]\tvalidation-rmse:6.10167                                                   \n",
      "[30]\tvalidation-rmse:6.08802                                                   \n",
      "[31]\tvalidation-rmse:6.07420                                                   \n",
      "[32]\tvalidation-rmse:6.06289                                                   \n",
      "[33]\tvalidation-rmse:6.05351                                                   \n",
      "[34]\tvalidation-rmse:6.04406                                                   \n",
      "[35]\tvalidation-rmse:6.03633                                                   \n",
      "[36]\tvalidation-rmse:6.02922                                                   \n",
      "[37]\tvalidation-rmse:6.02341                                                   \n",
      "[38]\tvalidation-rmse:6.01814                                                   \n",
      "[39]\tvalidation-rmse:6.01255                                                   \n",
      "[40]\tvalidation-rmse:6.00779                                                   \n",
      "[41]\tvalidation-rmse:6.00426                                                   \n",
      "[42]\tvalidation-rmse:6.00057                                                   \n",
      "[43]\tvalidation-rmse:5.99488                                                   \n",
      "[44]\tvalidation-rmse:5.98977                                                   \n",
      "[45]\tvalidation-rmse:5.98691                                                   \n",
      "[46]\tvalidation-rmse:5.98256                                                   \n",
      "[47]\tvalidation-rmse:5.98029                                                   \n",
      "[48]\tvalidation-rmse:5.97516                                                   \n",
      "[49]\tvalidation-rmse:5.97104                                                   \n",
      "[16:37:18] WARNING: ../src/objective/regression_obj.cu:203: reg:linear is now deprecated in favor of reg:squarederror.\n",
      "[0]\tvalidation-rmse:8.05185                                                    \n",
      "[1]\tvalidation-rmse:6.31595                                                    \n",
      "[2]\tvalidation-rmse:6.01493                                                    \n",
      "[3]\tvalidation-rmse:5.94662                                                    \n",
      "[4]\tvalidation-rmse:5.94093                                                    \n",
      "[5]\tvalidation-rmse:5.93352                                                    \n",
      "[6]\tvalidation-rmse:5.92061                                                    \n",
      "[7]\tvalidation-rmse:5.91468                                                    \n",
      "[8]\tvalidation-rmse:5.91522                                                    \n",
      "[9]\tvalidation-rmse:5.91441                                                    \n",
      "[10]\tvalidation-rmse:5.91063                                                   \n",
      "[11]\tvalidation-rmse:5.90820                                                   \n",
      "[12]\tvalidation-rmse:5.90617                                                   \n",
      "[13]\tvalidation-rmse:5.90369                                                   \n",
      "[14]\tvalidation-rmse:5.89406                                                   \n",
      "[15]\tvalidation-rmse:5.89722                                                   \n",
      "[16]\tvalidation-rmse:5.89546                                                   \n",
      "[17]\tvalidation-rmse:5.89450                                                   \n",
      "[18]\tvalidation-rmse:5.89378                                                   \n",
      "[19]\tvalidation-rmse:5.89407                                                   \n",
      "[20]\tvalidation-rmse:5.89435                                                   \n",
      "[21]\tvalidation-rmse:5.89631                                                   \n",
      "[22]\tvalidation-rmse:5.90002                                                   \n",
      "[23]\tvalidation-rmse:5.89741                                                   \n",
      "[24]\tvalidation-rmse:5.89735                                                   \n",
      "[25]\tvalidation-rmse:5.90111                                                   \n",
      "[26]\tvalidation-rmse:5.90532                                                   \n",
      "[27]\tvalidation-rmse:5.90637                                                   \n",
      "[28]\tvalidation-rmse:5.90751                                                   \n",
      "[29]\tvalidation-rmse:5.90644                                                   \n",
      "[30]\tvalidation-rmse:5.90580                                                   \n",
      "[31]\tvalidation-rmse:5.90670                                                   \n",
      "[32]\tvalidation-rmse:5.90815                                                   \n",
      "[33]\tvalidation-rmse:5.90740                                                   \n",
      "[34]\tvalidation-rmse:5.90730                                                   \n",
      "[35]\tvalidation-rmse:5.90637                                                   \n",
      "[36]\tvalidation-rmse:5.90991                                                   \n",
      "[37]\tvalidation-rmse:5.92465                                                   \n",
      "[38]\tvalidation-rmse:5.92516                                                   \n",
      "[39]\tvalidation-rmse:5.92696                                                   \n",
      "[40]\tvalidation-rmse:5.92866                                                   \n",
      "[41]\tvalidation-rmse:5.92951                                                   \n",
      "[42]\tvalidation-rmse:5.93118                                                   \n",
      "[43]\tvalidation-rmse:5.92671                                                   \n",
      "[44]\tvalidation-rmse:5.93402                                                   \n",
      "[45]\tvalidation-rmse:5.93549                                                   \n",
      "[46]\tvalidation-rmse:5.93669                                                   \n",
      "[47]\tvalidation-rmse:5.94481                                                   \n",
      "[48]\tvalidation-rmse:5.94708                                                   \n",
      "[49]\tvalidation-rmse:5.94961                                                   \n",
      "[16:37:34] WARNING: ../src/objective/regression_obj.cu:203: reg:linear is now deprecated in favor of reg:squarederror.\n",
      "[0]\tvalidation-rmse:16.50745                                                   \n",
      "[1]\tvalidation-rmse:15.63765                                                   \n",
      "[2]\tvalidation-rmse:14.83063                                                   \n",
      "[3]\tvalidation-rmse:14.08374                                                   \n",
      "[4]\tvalidation-rmse:13.39251                                                   \n",
      "[5]\tvalidation-rmse:12.75281                                                   \n",
      "[6]\tvalidation-rmse:12.16407                                                   \n",
      "[7]\tvalidation-rmse:11.61848                                                   \n",
      "[8]\tvalidation-rmse:11.11650                                                   \n",
      "[9]\tvalidation-rmse:10.65574                                                   \n",
      "[10]\tvalidation-rmse:10.23205                                                  \n",
      "[11]\tvalidation-rmse:9.84263                                                   \n",
      "[12]\tvalidation-rmse:9.48757                                                   \n",
      "[13]\tvalidation-rmse:9.16254                                                   \n",
      "[14]\tvalidation-rmse:8.86474                                                   \n",
      "[15]\tvalidation-rmse:8.59496                                                   \n",
      "[16]\tvalidation-rmse:8.34662                                                   \n",
      "[17]\tvalidation-rmse:8.12161                                                   \n",
      "[18]\tvalidation-rmse:7.91664                                                   \n",
      "[19]\tvalidation-rmse:7.72982                                                   \n",
      "[20]\tvalidation-rmse:7.56038                                                   \n",
      "[21]\tvalidation-rmse:7.40642                                                   \n",
      "[22]\tvalidation-rmse:7.26617                                                   \n",
      "[23]\tvalidation-rmse:7.13984                                                   \n",
      "[24]\tvalidation-rmse:7.02396                                                   \n",
      "[25]\tvalidation-rmse:6.91994                                                   \n",
      "[26]\tvalidation-rmse:6.82711                                                   \n",
      "[27]\tvalidation-rmse:6.74368                                                   \n",
      "[28]\tvalidation-rmse:6.66715                                                   \n",
      "[29]\tvalidation-rmse:6.59656                                                   \n",
      "[30]\tvalidation-rmse:6.53410                                                   \n",
      "[31]\tvalidation-rmse:6.47747                                                   \n",
      "[32]\tvalidation-rmse:6.42723                                                   \n",
      "[33]\tvalidation-rmse:6.38053                                                   \n",
      "[34]\tvalidation-rmse:6.33801                                                   \n",
      "[35]\tvalidation-rmse:6.29933                                                   \n",
      "[36]\tvalidation-rmse:6.26505                                                   \n",
      "[37]\tvalidation-rmse:6.23339                                                   \n",
      "[38]\tvalidation-rmse:6.20419                                                   \n",
      "[39]\tvalidation-rmse:6.17830                                                   \n",
      "[40]\tvalidation-rmse:6.15475                                                   \n",
      "[41]\tvalidation-rmse:6.13261                                                   \n",
      "[42]\tvalidation-rmse:6.11282                                                   \n",
      "[43]\tvalidation-rmse:6.09460                                                   \n",
      "[44]\tvalidation-rmse:6.07798                                                   \n",
      "[45]\tvalidation-rmse:6.06293                                                   \n",
      "[46]\tvalidation-rmse:6.04927                                                   \n",
      "[47]\tvalidation-rmse:6.03609                                                   \n",
      "[48]\tvalidation-rmse:6.02446                                                   \n",
      "[49]\tvalidation-rmse:6.01365                                                   \n",
      "[16:37:49] WARNING: ../src/objective/regression_obj.cu:203: reg:linear is now deprecated in favor of reg:squarederror.\n",
      "[0]\tvalidation-rmse:8.88236                                                    \n",
      "[1]\tvalidation-rmse:6.72956                                                    \n",
      "[2]\tvalidation-rmse:6.25446                                                    \n",
      "[3]\tvalidation-rmse:6.14384                                                    \n",
      "[4]\tvalidation-rmse:6.10607                                                    \n",
      "[5]\tvalidation-rmse:6.07963                                                    \n",
      "[6]\tvalidation-rmse:6.07006                                                    \n",
      "[7]\tvalidation-rmse:6.06120                                                    \n",
      "[8]\tvalidation-rmse:6.05672                                                    \n",
      "[9]\tvalidation-rmse:6.05487                                                    \n",
      "[10]\tvalidation-rmse:6.05277                                                   \n",
      "[11]\tvalidation-rmse:6.05037                                                   \n",
      "[12]\tvalidation-rmse:6.04990                                                   \n",
      "[13]\tvalidation-rmse:6.05001                                                   \n",
      "[14]\tvalidation-rmse:6.04709                                                   \n",
      "[15]\tvalidation-rmse:6.04870                                                   \n",
      "[16]\tvalidation-rmse:6.04927                                                   \n",
      "[17]\tvalidation-rmse:6.04966                                                   \n",
      "[18]\tvalidation-rmse:6.04770                                                   \n",
      "[19]\tvalidation-rmse:6.04958                                                   \n",
      "[20]\tvalidation-rmse:6.04659                                                   \n",
      "[21]\tvalidation-rmse:6.04687                                                   \n",
      "[22]\tvalidation-rmse:6.04621                                                   \n",
      "[23]\tvalidation-rmse:6.04476                                                   \n",
      "[24]\tvalidation-rmse:6.04569                                                   \n",
      "[25]\tvalidation-rmse:6.04538                                                   \n",
      "[26]\tvalidation-rmse:6.04674                                                   \n",
      "[27]\tvalidation-rmse:6.05002                                                   \n",
      "[28]\tvalidation-rmse:6.04865                                                   \n",
      "[29]\tvalidation-rmse:6.04892                                                   \n",
      "[30]\tvalidation-rmse:6.04838                                                   \n",
      "[31]\tvalidation-rmse:6.04879                                                   \n",
      "[32]\tvalidation-rmse:6.04930                                                   \n",
      "[33]\tvalidation-rmse:6.05074                                                   \n",
      "[34]\tvalidation-rmse:6.05123                                                   \n",
      "[35]\tvalidation-rmse:6.04988                                                   \n",
      "[36]\tvalidation-rmse:6.05023                                                   \n",
      "[37]\tvalidation-rmse:6.04917                                                   \n",
      "[38]\tvalidation-rmse:6.05081                                                   \n",
      "[39]\tvalidation-rmse:6.05019                                                   \n",
      "[40]\tvalidation-rmse:6.05046                                                   \n",
      "[41]\tvalidation-rmse:6.05101                                                   \n",
      "[42]\tvalidation-rmse:6.05179                                                   \n",
      "[43]\tvalidation-rmse:6.05204                                                   \n",
      "[44]\tvalidation-rmse:6.05042                                                   \n",
      "[45]\tvalidation-rmse:6.05023                                                   \n",
      "[46]\tvalidation-rmse:6.05135                                                   \n",
      "[47]\tvalidation-rmse:6.05169                                                   \n",
      "[48]\tvalidation-rmse:6.05121                                                   \n",
      "[49]\tvalidation-rmse:6.05334                                                   \n",
      "[16:38:06] WARNING: ../src/objective/regression_obj.cu:203: reg:linear is now deprecated in favor of reg:squarederror.\n",
      "[0]\tvalidation-rmse:14.13055                                                   \n",
      "[1]\tvalidation-rmse:11.70180                                                   \n",
      "[2]\tvalidation-rmse:9.95356                                                    \n",
      "[3]\tvalidation-rmse:8.72182                                                    \n",
      "[4]\tvalidation-rmse:7.87632                                                    \n",
      "[5]\tvalidation-rmse:7.30229                                                    \n",
      "[6]\tvalidation-rmse:6.91786                                                    \n",
      "[7]\tvalidation-rmse:6.65993                                                    \n",
      "[8]\tvalidation-rmse:6.48988                                                    \n",
      "[9]\tvalidation-rmse:6.37546                                                    \n",
      "[10]\tvalidation-rmse:6.29485                                                   \n",
      "[11]\tvalidation-rmse:6.23879                                                   \n",
      "[12]\tvalidation-rmse:6.19898                                                   \n",
      "[13]\tvalidation-rmse:6.16977                                                   \n",
      "[14]\tvalidation-rmse:6.14640                                                   \n",
      "[15]\tvalidation-rmse:6.13168                                                   \n",
      "[16]\tvalidation-rmse:6.11908                                                   \n",
      "[17]\tvalidation-rmse:6.11279                                                   \n",
      "[18]\tvalidation-rmse:6.10697                                                   \n",
      "[19]\tvalidation-rmse:6.10083                                                   \n",
      "[20]\tvalidation-rmse:6.09640                                                   \n",
      "[21]\tvalidation-rmse:6.09246                                                   \n",
      "[22]\tvalidation-rmse:6.09021                                                   \n",
      "[23]\tvalidation-rmse:6.08695                                                   \n",
      "[24]\tvalidation-rmse:6.08469                                                   \n",
      "[25]\tvalidation-rmse:6.08173                                                   \n",
      "[26]\tvalidation-rmse:6.07646                                                   \n",
      "[27]\tvalidation-rmse:6.07534                                                   \n",
      "[28]\tvalidation-rmse:6.07339                                                   \n",
      "[29]\tvalidation-rmse:6.07155                                                   \n",
      "[30]\tvalidation-rmse:6.06909                                                   \n",
      "[31]\tvalidation-rmse:6.06608                                                   \n",
      "[32]\tvalidation-rmse:6.06419                                                   \n",
      "[33]\tvalidation-rmse:6.06280                                                   \n",
      "[34]\tvalidation-rmse:6.06114                                                   \n",
      "[35]\tvalidation-rmse:6.05838                                                   \n",
      "[36]\tvalidation-rmse:6.05739                                                   \n",
      "[37]\tvalidation-rmse:6.05301                                                   \n",
      "[38]\tvalidation-rmse:6.05169                                                   \n",
      "[39]\tvalidation-rmse:6.04927                                                   \n",
      "[40]\tvalidation-rmse:6.04709                                                   \n",
      "[41]\tvalidation-rmse:6.04638                                                   \n",
      "[42]\tvalidation-rmse:6.04499                                                   \n",
      "[43]\tvalidation-rmse:6.04371                                                   \n",
      "[44]\tvalidation-rmse:6.04200                                                   \n",
      "[45]\tvalidation-rmse:6.04047                                                   \n",
      "[46]\tvalidation-rmse:6.04000                                                   \n",
      "[47]\tvalidation-rmse:6.03944                                                   \n",
      "[48]\tvalidation-rmse:6.03895                                                   \n",
      "[49]\tvalidation-rmse:6.03546                                                   \n",
      "100%|██████████| 10/10 [03:56<00:00, 23.63s/trial, best loss: 5.901453494451732]\n"
     ]
    }
   ],
   "source": [
    "\n",
    "\n",
    "search_space = {\n",
    "    'max_depth': scope.int(hp.quniform('max_depth', 4, 100, 1)),\n",
    "    'learning_rate': hp.loguniform('learning_rate', -3, 0),\n",
    "    'reg_alpha': hp.loguniform('reg_alpha', -5, -1),\n",
    "    'reg_lambda': hp.loguniform('reg_lambda', -6, -1),\n",
    "    'min_child_weight': hp.loguniform('min_child_weight', -1, 3),\n",
    "    'objective': 'reg:linear',\n",
    "    'seed': 42\n",
    "}\n",
    "\n",
    "best_result = fmin(\n",
    "    fn = objective,\n",
    "    space = search_space,\n",
    "    algo = tpe.suggest,\n",
    "    max_evals = 10,\n",
    "    trials = Trials()\n",
    ")\n"
   ]
  },
  {
   "cell_type": "markdown",
   "metadata": {},
   "source": [
    "### Saving the best model and preprocessor (dict_vectorizer) using artifact"
   ]
  },
  {
   "cell_type": "code",
   "execution_count": 24,
   "metadata": {},
   "outputs": [],
   "source": [
    "with mlflow.start_run():\n",
    "    \n",
    "    mlflow.set_tag('developer1', 'Rahul')\n",
    "    mlflow.log_param('train-data-path', './data/green_tripdata_2022-01.parquet')\n",
    "    mlflow.log_param('val-data-path', './data/green_tripdata_2022-02.parquet')\n",
    "    \n",
    "    alpha = 0.3\n",
    "    lr = Lasso(alpha)\n",
    "    lr.fit(X_train, y_train)\n",
    "\n",
    "    y_pred = lr.predict(X_val)\n",
    "    rmse = mean_squared_error(y_val, y_pred, squared = False)\n",
    "    mlflow.log_metric('rmse', rmse)\n",
    "    \n",
    "    mlflow.log_artifact(local_path=\"models/lin_reg.bin\", artifact_path='models_pickle')\n",
    "    \n",
    "    "
   ]
  },
  {
   "cell_type": "markdown",
   "metadata": {},
   "source": [
    "##### Logging model in mlflow\n",
    "\n",
    "Two Options\n",
    "* Log model as an artifact\n",
    "\n",
    "`mlflow.log_artifact(\"mymode\", artifact_path = \"models/\")`\n",
    "\n",
    "* Log model using the method log_model\n",
    "\n",
    "`mlflow.<framework>.log_model(model, artifact_path = \"models/)`"
   ]
  },
  {
   "cell_type": "code",
   "execution_count": null,
   "metadata": {},
   "outputs": [],
   "source": [
    "# mlflow.xgboost.autolog(disable = True)"
   ]
  },
  {
   "cell_type": "code",
   "execution_count": 25,
   "metadata": {},
   "outputs": [
    {
     "name": "stdout",
     "output_type": "stream",
     "text": [
      "[16:44:38] WARNING: ../src/objective/regression_obj.cu:203: reg:linear is now deprecated in favor of reg:squarederror.\n",
      "[0]\tvalidation-rmse:12.97738\n",
      "[1]\tvalidation-rmse:10.13485\n",
      "[2]\tvalidation-rmse:8.38821\n",
      "[3]\tvalidation-rmse:7.36805\n",
      "[4]\tvalidation-rmse:6.78930\n",
      "[5]\tvalidation-rmse:6.45744\n",
      "[6]\tvalidation-rmse:6.26867\n",
      "[7]\tvalidation-rmse:6.15553\n",
      "[8]\tvalidation-rmse:6.08232\n",
      "[9]\tvalidation-rmse:6.03702\n",
      "[10]\tvalidation-rmse:6.01035\n",
      "[11]\tvalidation-rmse:5.99663\n",
      "[12]\tvalidation-rmse:5.98599\n",
      "[13]\tvalidation-rmse:5.97952\n",
      "[14]\tvalidation-rmse:5.97258\n",
      "[15]\tvalidation-rmse:5.96833\n",
      "[16]\tvalidation-rmse:5.96462\n",
      "[17]\tvalidation-rmse:5.96296\n",
      "[18]\tvalidation-rmse:5.95921\n",
      "[19]\tvalidation-rmse:5.95671\n",
      "[20]\tvalidation-rmse:5.95124\n",
      "[21]\tvalidation-rmse:5.94844\n",
      "[22]\tvalidation-rmse:5.94713\n",
      "[23]\tvalidation-rmse:5.94704\n",
      "[24]\tvalidation-rmse:5.94525\n",
      "[25]\tvalidation-rmse:5.94403\n",
      "[26]\tvalidation-rmse:5.94296\n",
      "[27]\tvalidation-rmse:5.94214\n",
      "[28]\tvalidation-rmse:5.93978\n",
      "[29]\tvalidation-rmse:5.93622\n",
      "[30]\tvalidation-rmse:5.93504\n",
      "[31]\tvalidation-rmse:5.93242\n",
      "[32]\tvalidation-rmse:5.93090\n",
      "[33]\tvalidation-rmse:5.92920\n",
      "[34]\tvalidation-rmse:5.92739\n",
      "[35]\tvalidation-rmse:5.92620\n",
      "[36]\tvalidation-rmse:5.92404\n",
      "[37]\tvalidation-rmse:5.92197\n",
      "[38]\tvalidation-rmse:5.92164\n",
      "[39]\tvalidation-rmse:5.92101\n",
      "[40]\tvalidation-rmse:5.91959\n",
      "[41]\tvalidation-rmse:5.91567\n",
      "[42]\tvalidation-rmse:5.91336\n",
      "[43]\tvalidation-rmse:5.91217\n",
      "[44]\tvalidation-rmse:5.90841\n",
      "[45]\tvalidation-rmse:5.90720\n",
      "[46]\tvalidation-rmse:5.90618\n",
      "[47]\tvalidation-rmse:5.90460\n",
      "[48]\tvalidation-rmse:5.90285\n",
      "[49]\tvalidation-rmse:5.90145\n",
      "[50]\tvalidation-rmse:5.89963\n",
      "[51]\tvalidation-rmse:5.89957\n",
      "[52]\tvalidation-rmse:5.89870\n",
      "[53]\tvalidation-rmse:5.89778\n",
      "[54]\tvalidation-rmse:5.89669\n",
      "[55]\tvalidation-rmse:5.89661\n",
      "[56]\tvalidation-rmse:5.89649\n",
      "[57]\tvalidation-rmse:5.89577\n",
      "[58]\tvalidation-rmse:5.89566\n",
      "[59]\tvalidation-rmse:5.89401\n",
      "[60]\tvalidation-rmse:5.89322\n",
      "[61]\tvalidation-rmse:5.89239\n",
      "[62]\tvalidation-rmse:5.89140\n",
      "[63]\tvalidation-rmse:5.89015\n",
      "[64]\tvalidation-rmse:5.88924\n",
      "[65]\tvalidation-rmse:5.88832\n",
      "[66]\tvalidation-rmse:5.88765\n",
      "[67]\tvalidation-rmse:5.88728\n",
      "[68]\tvalidation-rmse:5.88657\n",
      "[69]\tvalidation-rmse:5.88692\n",
      "[70]\tvalidation-rmse:5.88665\n",
      "[71]\tvalidation-rmse:5.88686\n",
      "[72]\tvalidation-rmse:5.88695\n",
      "[73]\tvalidation-rmse:5.88696\n",
      "[74]\tvalidation-rmse:5.88693\n",
      "[75]\tvalidation-rmse:5.88600\n",
      "[76]\tvalidation-rmse:5.88625\n",
      "[77]\tvalidation-rmse:5.88582\n",
      "[78]\tvalidation-rmse:5.88499\n",
      "[79]\tvalidation-rmse:5.88433\n",
      "[80]\tvalidation-rmse:5.88348\n",
      "[81]\tvalidation-rmse:5.88253\n",
      "[82]\tvalidation-rmse:5.88225\n",
      "[83]\tvalidation-rmse:5.88071\n",
      "[84]\tvalidation-rmse:5.87970\n",
      "[85]\tvalidation-rmse:5.87874\n",
      "[86]\tvalidation-rmse:5.87737\n",
      "[87]\tvalidation-rmse:5.87638\n",
      "[88]\tvalidation-rmse:5.87613\n",
      "[89]\tvalidation-rmse:5.87475\n",
      "[90]\tvalidation-rmse:5.87435\n",
      "[91]\tvalidation-rmse:5.87415\n",
      "[92]\tvalidation-rmse:5.87346\n",
      "[93]\tvalidation-rmse:5.87286\n",
      "[94]\tvalidation-rmse:5.87163\n",
      "[95]\tvalidation-rmse:5.87147\n",
      "[96]\tvalidation-rmse:5.87064\n",
      "[97]\tvalidation-rmse:5.86987\n",
      "[98]\tvalidation-rmse:5.86946\n",
      "[99]\tvalidation-rmse:5.86774\n",
      "[100]\tvalidation-rmse:5.86705\n",
      "[101]\tvalidation-rmse:5.86709\n",
      "[102]\tvalidation-rmse:5.86660\n",
      "[103]\tvalidation-rmse:5.86538\n",
      "[104]\tvalidation-rmse:5.86479\n",
      "[105]\tvalidation-rmse:5.86530\n",
      "[106]\tvalidation-rmse:5.86502\n",
      "[107]\tvalidation-rmse:5.86395\n",
      "[108]\tvalidation-rmse:5.86109\n",
      "[109]\tvalidation-rmse:5.86064\n",
      "[110]\tvalidation-rmse:5.85953\n",
      "[111]\tvalidation-rmse:5.85866\n",
      "[112]\tvalidation-rmse:5.85756\n",
      "[113]\tvalidation-rmse:5.85725\n",
      "[114]\tvalidation-rmse:5.85606\n",
      "[115]\tvalidation-rmse:5.85570\n",
      "[116]\tvalidation-rmse:5.85548\n",
      "[117]\tvalidation-rmse:5.85521\n",
      "[118]\tvalidation-rmse:5.85489\n",
      "[119]\tvalidation-rmse:5.85402\n",
      "[120]\tvalidation-rmse:5.85370\n",
      "[121]\tvalidation-rmse:5.85288\n",
      "[122]\tvalidation-rmse:5.85243\n",
      "[123]\tvalidation-rmse:5.85103\n",
      "[124]\tvalidation-rmse:5.84966\n",
      "[125]\tvalidation-rmse:5.84915\n",
      "[126]\tvalidation-rmse:5.84907\n",
      "[127]\tvalidation-rmse:5.84744\n",
      "[128]\tvalidation-rmse:5.84727\n",
      "[129]\tvalidation-rmse:5.84723\n",
      "[130]\tvalidation-rmse:5.84691\n",
      "[131]\tvalidation-rmse:5.84660\n",
      "[132]\tvalidation-rmse:5.84565\n",
      "[133]\tvalidation-rmse:5.84528\n",
      "[134]\tvalidation-rmse:5.84476\n",
      "[135]\tvalidation-rmse:5.84479\n",
      "[136]\tvalidation-rmse:5.84138\n",
      "[137]\tvalidation-rmse:5.84091\n",
      "[138]\tvalidation-rmse:5.84029\n",
      "[139]\tvalidation-rmse:5.84030\n",
      "[140]\tvalidation-rmse:5.84031\n",
      "[141]\tvalidation-rmse:5.84054\n",
      "[142]\tvalidation-rmse:5.84008\n",
      "[143]\tvalidation-rmse:5.84005\n",
      "[144]\tvalidation-rmse:5.83961\n",
      "[145]\tvalidation-rmse:5.83970\n",
      "[146]\tvalidation-rmse:5.83991\n",
      "[147]\tvalidation-rmse:5.83990\n",
      "[148]\tvalidation-rmse:5.83958\n",
      "[149]\tvalidation-rmse:5.83936\n",
      "[150]\tvalidation-rmse:5.83931\n",
      "[151]\tvalidation-rmse:5.83902\n",
      "[152]\tvalidation-rmse:5.83888\n",
      "[153]\tvalidation-rmse:5.83835\n",
      "[154]\tvalidation-rmse:5.83811\n",
      "[155]\tvalidation-rmse:5.83798\n",
      "[156]\tvalidation-rmse:5.83860\n",
      "[157]\tvalidation-rmse:5.83912\n",
      "[158]\tvalidation-rmse:5.83870\n",
      "[159]\tvalidation-rmse:5.83832\n",
      "[160]\tvalidation-rmse:5.83704\n",
      "[161]\tvalidation-rmse:5.83804\n",
      "[162]\tvalidation-rmse:5.83793\n",
      "[163]\tvalidation-rmse:5.83734\n",
      "[164]\tvalidation-rmse:5.83722\n",
      "[165]\tvalidation-rmse:5.83718\n",
      "[166]\tvalidation-rmse:5.83674\n",
      "[167]\tvalidation-rmse:5.83275\n",
      "[168]\tvalidation-rmse:5.83033\n",
      "[169]\tvalidation-rmse:5.82977\n",
      "[170]\tvalidation-rmse:5.83028\n",
      "[171]\tvalidation-rmse:5.83037\n",
      "[172]\tvalidation-rmse:5.83070\n",
      "[173]\tvalidation-rmse:5.83130\n",
      "[174]\tvalidation-rmse:5.83141\n",
      "[175]\tvalidation-rmse:5.83184\n",
      "[176]\tvalidation-rmse:5.83208\n",
      "[177]\tvalidation-rmse:5.83159\n",
      "[178]\tvalidation-rmse:5.83086\n",
      "[179]\tvalidation-rmse:5.83112\n",
      "[180]\tvalidation-rmse:5.83046\n",
      "[181]\tvalidation-rmse:5.83036\n",
      "[182]\tvalidation-rmse:5.83034\n",
      "[183]\tvalidation-rmse:5.82975\n",
      "[184]\tvalidation-rmse:5.83002\n",
      "[185]\tvalidation-rmse:5.82997\n",
      "[186]\tvalidation-rmse:5.83011\n",
      "[187]\tvalidation-rmse:5.83035\n",
      "[188]\tvalidation-rmse:5.82916\n",
      "[189]\tvalidation-rmse:5.82876\n",
      "[190]\tvalidation-rmse:5.82898\n",
      "[191]\tvalidation-rmse:5.82880\n",
      "[192]\tvalidation-rmse:5.82866\n",
      "[193]\tvalidation-rmse:5.82821\n",
      "[194]\tvalidation-rmse:5.82828\n",
      "[195]\tvalidation-rmse:5.82796\n",
      "[196]\tvalidation-rmse:5.82667\n",
      "[197]\tvalidation-rmse:5.82699\n",
      "[198]\tvalidation-rmse:5.82692\n",
      "[199]\tvalidation-rmse:5.82687\n",
      "[200]\tvalidation-rmse:5.82625\n",
      "[201]\tvalidation-rmse:5.82564\n",
      "[202]\tvalidation-rmse:5.82550\n",
      "[203]\tvalidation-rmse:5.82562\n",
      "[204]\tvalidation-rmse:5.82549\n",
      "[205]\tvalidation-rmse:5.82566\n",
      "[206]\tvalidation-rmse:5.82577\n",
      "[207]\tvalidation-rmse:5.82533\n",
      "[208]\tvalidation-rmse:5.82490\n",
      "[209]\tvalidation-rmse:5.82150\n",
      "[210]\tvalidation-rmse:5.82128\n",
      "[211]\tvalidation-rmse:5.82123\n",
      "[212]\tvalidation-rmse:5.82138\n",
      "[213]\tvalidation-rmse:5.82104\n",
      "[214]\tvalidation-rmse:5.82075\n",
      "[215]\tvalidation-rmse:5.82096\n",
      "[216]\tvalidation-rmse:5.82259\n",
      "[217]\tvalidation-rmse:5.82182\n",
      "[218]\tvalidation-rmse:5.81932\n",
      "[219]\tvalidation-rmse:5.81875\n",
      "[220]\tvalidation-rmse:5.81869\n",
      "[221]\tvalidation-rmse:5.81860\n",
      "[222]\tvalidation-rmse:5.81768\n",
      "[223]\tvalidation-rmse:5.81764\n",
      "[224]\tvalidation-rmse:5.81804\n",
      "[225]\tvalidation-rmse:5.81761\n",
      "[226]\tvalidation-rmse:5.81834\n",
      "[227]\tvalidation-rmse:5.81799\n",
      "[228]\tvalidation-rmse:5.81801\n",
      "[229]\tvalidation-rmse:5.81780\n",
      "[230]\tvalidation-rmse:5.81591\n",
      "[231]\tvalidation-rmse:5.81533\n",
      "[232]\tvalidation-rmse:5.81546\n",
      "[233]\tvalidation-rmse:5.81567\n",
      "[234]\tvalidation-rmse:5.81554\n",
      "[235]\tvalidation-rmse:5.81523\n",
      "[236]\tvalidation-rmse:5.81416\n",
      "[237]\tvalidation-rmse:5.81458\n",
      "[238]\tvalidation-rmse:5.81492\n",
      "[239]\tvalidation-rmse:5.81479\n",
      "[240]\tvalidation-rmse:5.81473\n",
      "[241]\tvalidation-rmse:5.81451\n",
      "[242]\tvalidation-rmse:5.81448\n",
      "[243]\tvalidation-rmse:5.81400\n",
      "[244]\tvalidation-rmse:5.81367\n",
      "[245]\tvalidation-rmse:5.81362\n",
      "[246]\tvalidation-rmse:5.81353\n",
      "[247]\tvalidation-rmse:5.81349\n",
      "[248]\tvalidation-rmse:5.81309\n",
      "[249]\tvalidation-rmse:5.81292\n",
      "[250]\tvalidation-rmse:5.81315\n",
      "[251]\tvalidation-rmse:5.81226\n",
      "[252]\tvalidation-rmse:5.81234\n",
      "[253]\tvalidation-rmse:5.81328\n",
      "[254]\tvalidation-rmse:5.81344\n",
      "[255]\tvalidation-rmse:5.81328\n",
      "[256]\tvalidation-rmse:5.81296\n",
      "[257]\tvalidation-rmse:5.81281\n",
      "[258]\tvalidation-rmse:5.81270\n",
      "[259]\tvalidation-rmse:5.81319\n",
      "[260]\tvalidation-rmse:5.81300\n",
      "[261]\tvalidation-rmse:5.81299\n",
      "[262]\tvalidation-rmse:5.81312\n",
      "[263]\tvalidation-rmse:5.81306\n",
      "[264]\tvalidation-rmse:5.81299\n",
      "[265]\tvalidation-rmse:5.81303\n",
      "[266]\tvalidation-rmse:5.81342\n",
      "[267]\tvalidation-rmse:5.81414\n",
      "[268]\tvalidation-rmse:5.81443\n",
      "[269]\tvalidation-rmse:5.81427\n",
      "[270]\tvalidation-rmse:5.81462\n",
      "[271]\tvalidation-rmse:5.81440\n",
      "[272]\tvalidation-rmse:5.81437\n",
      "[273]\tvalidation-rmse:5.81445\n",
      "[274]\tvalidation-rmse:5.81420\n",
      "[275]\tvalidation-rmse:5.81366\n",
      "[276]\tvalidation-rmse:5.81365\n",
      "[277]\tvalidation-rmse:5.81387\n",
      "[278]\tvalidation-rmse:5.81421\n",
      "[279]\tvalidation-rmse:5.81211\n",
      "[280]\tvalidation-rmse:5.81206\n",
      "[281]\tvalidation-rmse:5.81212\n",
      "[282]\tvalidation-rmse:5.81241\n",
      "[283]\tvalidation-rmse:5.81224\n",
      "[284]\tvalidation-rmse:5.81229\n",
      "[285]\tvalidation-rmse:5.81270\n",
      "[286]\tvalidation-rmse:5.81337\n",
      "[287]\tvalidation-rmse:5.81318\n",
      "[288]\tvalidation-rmse:5.81382\n",
      "[289]\tvalidation-rmse:5.81384\n",
      "[290]\tvalidation-rmse:5.81368\n",
      "[291]\tvalidation-rmse:5.81301\n",
      "[292]\tvalidation-rmse:5.81360\n",
      "[293]\tvalidation-rmse:5.81368\n",
      "[294]\tvalidation-rmse:5.81365\n",
      "[295]\tvalidation-rmse:5.81321\n",
      "[296]\tvalidation-rmse:5.81319\n",
      "[297]\tvalidation-rmse:5.81276\n",
      "[298]\tvalidation-rmse:5.81279\n",
      "[299]\tvalidation-rmse:5.81293\n",
      "[300]\tvalidation-rmse:5.81202\n",
      "[301]\tvalidation-rmse:5.81221\n",
      "[302]\tvalidation-rmse:5.81269\n",
      "[303]\tvalidation-rmse:5.81291\n",
      "[304]\tvalidation-rmse:5.81274\n",
      "[305]\tvalidation-rmse:5.81257\n",
      "[306]\tvalidation-rmse:5.81145\n",
      "[307]\tvalidation-rmse:5.81162\n",
      "[308]\tvalidation-rmse:5.81159\n",
      "[309]\tvalidation-rmse:5.81145\n",
      "[310]\tvalidation-rmse:5.81159\n",
      "[311]\tvalidation-rmse:5.81193\n",
      "[312]\tvalidation-rmse:5.81187\n",
      "[313]\tvalidation-rmse:5.81190\n",
      "[314]\tvalidation-rmse:5.81194\n",
      "[315]\tvalidation-rmse:5.81240\n",
      "[316]\tvalidation-rmse:5.81255\n",
      "[317]\tvalidation-rmse:5.81255\n",
      "[318]\tvalidation-rmse:5.81296\n",
      "[319]\tvalidation-rmse:5.81284\n",
      "[320]\tvalidation-rmse:5.81271\n",
      "[321]\tvalidation-rmse:5.81260\n",
      "[322]\tvalidation-rmse:5.81272\n",
      "[323]\tvalidation-rmse:5.81274\n",
      "[324]\tvalidation-rmse:5.81295\n",
      "[325]\tvalidation-rmse:5.81304\n",
      "[326]\tvalidation-rmse:5.81299\n",
      "[327]\tvalidation-rmse:5.81314\n",
      "[328]\tvalidation-rmse:5.81345\n",
      "[329]\tvalidation-rmse:5.81351\n",
      "[330]\tvalidation-rmse:5.81362\n",
      "[331]\tvalidation-rmse:5.81361\n",
      "[332]\tvalidation-rmse:5.81343\n",
      "[333]\tvalidation-rmse:5.81365\n",
      "[334]\tvalidation-rmse:5.81390\n",
      "[335]\tvalidation-rmse:5.81381\n",
      "[336]\tvalidation-rmse:5.81395\n",
      "[337]\tvalidation-rmse:5.81334\n",
      "[338]\tvalidation-rmse:5.81345\n",
      "[339]\tvalidation-rmse:5.81309\n",
      "[340]\tvalidation-rmse:5.81354\n",
      "[341]\tvalidation-rmse:5.81359\n",
      "[342]\tvalidation-rmse:5.81355\n",
      "[343]\tvalidation-rmse:5.81391\n",
      "[344]\tvalidation-rmse:5.81429\n",
      "[345]\tvalidation-rmse:5.81433\n",
      "[346]\tvalidation-rmse:5.81424\n",
      "[347]\tvalidation-rmse:5.81400\n",
      "[348]\tvalidation-rmse:5.81418\n",
      "[349]\tvalidation-rmse:5.81388\n",
      "[350]\tvalidation-rmse:5.81400\n",
      "[351]\tvalidation-rmse:5.81441\n",
      "[352]\tvalidation-rmse:5.81441\n",
      "[353]\tvalidation-rmse:5.81440\n",
      "[354]\tvalidation-rmse:5.81460\n",
      "[355]\tvalidation-rmse:5.81348\n",
      "[356]\tvalidation-rmse:5.81379\n",
      "[357]\tvalidation-rmse:5.81361\n",
      "[358]\tvalidation-rmse:5.81317\n",
      "[359]\tvalidation-rmse:5.81459\n"
     ]
    },
    {
     "name": "stderr",
     "output_type": "stream",
     "text": [
      "/home/rahul-raoniar/miniconda3/envs/exp-tracking-env/lib/python3.9/site-packages/_distutils_hack/__init__.py:33: UserWarning: Setuptools is replacing distutils.\n",
      "  warnings.warn(\"Setuptools is replacing distutils.\")\n"
     ]
    }
   ],
   "source": [
    "with mlflow.start_run():\n",
    "    \n",
    "    best_params = {\n",
    "        'learning_rate': 0.31485709238033616,\n",
    "        'max_depth': 14,\n",
    "        'min_child_weight':\t1.5523641725984842,\n",
    "        'objective': 'reg:linear',\n",
    "        'reg_alpha': 0.009848456614966809,\n",
    "        'reg_lambda': 0.00982279301468348,\n",
    "        'seed':\t42\n",
    "    }\n",
    "        \n",
    "    mlflow.log_params(best_params)\n",
    "    \n",
    "    booster = xgb.train(\n",
    "        params = best_params,\n",
    "        dtrain = train,\n",
    "        num_boost_round = 1000,\n",
    "        evals = [(valid, 'validation')],\n",
    "        early_stopping_rounds = 50\n",
    "    )\n",
    "        \n",
    "    y_pred = booster.predict(valid)\n",
    "    rmse = mean_squared_error(y_val, y_pred, squared=False)\n",
    "    mlflow.log_metric('rmse', rmse)\n",
    "    \n",
    "    with open(\"models/preprocessor.b\", 'wb') as f_out:\n",
    "        pickle.dump(dv, f_out)\n",
    "    \n",
    "    mlflow.log_artifact('models/preprocessor.b', artifact_path = 'preprocessor')\n",
    "    mlflow.xgboost.log_model(booster, artifact_path = \"models_mlflow\")"
   ]
  },
  {
   "cell_type": "markdown",
   "metadata": {},
   "source": [
    "### Loading model from mlflow to make prediction"
   ]
  },
  {
   "cell_type": "code",
   "execution_count": 26,
   "metadata": {},
   "outputs": [
    {
     "name": "stdout",
     "output_type": "stream",
     "text": [
      "[16:47:37] WARNING: ../src/objective/regression_obj.cu:203: reg:linear is now deprecated in favor of reg:squarederror.\n"
     ]
    }
   ],
   "source": [
    "import mlflow\n",
    "logged_model = 'runs:/13f8e1801b2f4063b4d347cf52932578/models_mlflow'\n",
    "\n",
    "# Load model as a PyFuncModel.\n",
    "loaded_model = mlflow.pyfunc.load_model(logged_model)\n",
    "\n"
   ]
  },
  {
   "cell_type": "code",
   "execution_count": 27,
   "metadata": {},
   "outputs": [
    {
     "data": {
      "text/plain": [
       "mlflow.pyfunc.loaded_model:\n",
       "  artifact_path: models_mlflow\n",
       "  flavor: mlflow.xgboost\n",
       "  run_id: 13f8e1801b2f4063b4d347cf52932578"
      ]
     },
     "execution_count": 27,
     "metadata": {},
     "output_type": "execute_result"
    }
   ],
   "source": [
    "loaded_model"
   ]
  },
  {
   "cell_type": "markdown",
   "metadata": {},
   "source": [
    "### Loading model using xgboost specific flavor"
   ]
  },
  {
   "cell_type": "code",
   "execution_count": 28,
   "metadata": {},
   "outputs": [
    {
     "name": "stdout",
     "output_type": "stream",
     "text": [
      "[16:47:39] WARNING: ../src/objective/regression_obj.cu:203: reg:linear is now deprecated in favor of reg:squarederror.\n"
     ]
    },
    {
     "data": {
      "text/plain": [
       "<xgboost.core.Booster at 0x7f65a8b34850>"
      ]
     },
     "execution_count": 28,
     "metadata": {},
     "output_type": "execute_result"
    }
   ],
   "source": [
    "# Loading another way\n",
    "xgboost_model = mlflow.xgboost.load_model(logged_model)\n",
    "xgboost_model"
   ]
  },
  {
   "cell_type": "code",
   "execution_count": 29,
   "metadata": {},
   "outputs": [
    {
     "data": {
      "text/plain": [
       "array([ 6.7637215,  3.8204186, 26.063858 , 35.849026 , 28.011059 ,\n",
       "        9.587929 , 20.21098  ,  4.1223836, 15.495828 ,  5.576346 ],\n",
       "      dtype=float32)"
      ]
     },
     "execution_count": 29,
     "metadata": {},
     "output_type": "execute_result"
    }
   ],
   "source": [
    "y_pred = xgboost_model.predict(valid)\n",
    "y_pred[0:10]"
   ]
  },
  {
   "cell_type": "code",
   "execution_count": 30,
   "metadata": {},
   "outputs": [
    {
     "name": "stderr",
     "output_type": "stream",
     "text": [
      "2022/10/30 16:56:16 WARNING mlflow.utils.autologging_utils: You are using an unsupported version of sklearn. If you encounter errors during autologging, try upgrading / downgrading sklearn to a supported version, or try upgrading MLflow.\n"
     ]
    },
    {
     "ename": "KeyboardInterrupt",
     "evalue": "",
     "output_type": "error",
     "traceback": [
      "\u001b[0;31m---------------------------------------------------------------------------\u001b[0m",
      "\u001b[0;31mKeyboardInterrupt\u001b[0m                         Traceback (most recent call last)",
      "Cell \u001b[0;32mIn [30], line 15\u001b[0m\n\u001b[1;32m     12\u001b[0m mlflow\u001b[39m.\u001b[39mlog_artifact(\u001b[39m\"\u001b[39m\u001b[39mmodels/preprocessor.b\u001b[39m\u001b[39m\"\u001b[39m, artifact_path\u001b[39m=\u001b[39m\u001b[39m\"\u001b[39m\u001b[39mpreprocessor\u001b[39m\u001b[39m\"\u001b[39m)\n\u001b[1;32m     14\u001b[0m mlmodel \u001b[39m=\u001b[39m model_class()\n\u001b[0;32m---> 15\u001b[0m mlmodel\u001b[39m.\u001b[39;49mfit(X_train, y_train)\n\u001b[1;32m     17\u001b[0m y_pred \u001b[39m=\u001b[39m mlmodel\u001b[39m.\u001b[39mpredict(X_val)\n\u001b[1;32m     18\u001b[0m rmse \u001b[39m=\u001b[39m mean_squared_error(y_val, y_pred, squared\u001b[39m=\u001b[39m\u001b[39mFalse\u001b[39;00m)\n",
      "File \u001b[0;32m~/miniconda3/envs/exp-tracking-env/lib/python3.9/site-packages/mlflow/utils/autologging_utils/safety.py:555\u001b[0m, in \u001b[0;36msafe_patch.<locals>.safe_patch_function\u001b[0;34m(*args, **kwargs)\u001b[0m\n\u001b[1;32m    553\u001b[0m     patch_function\u001b[39m.\u001b[39mcall(call_original, \u001b[39m*\u001b[39margs, \u001b[39m*\u001b[39m\u001b[39m*\u001b[39mkwargs)\n\u001b[1;32m    554\u001b[0m \u001b[39melse\u001b[39;00m:\n\u001b[0;32m--> 555\u001b[0m     patch_function(call_original, \u001b[39m*\u001b[39;49margs, \u001b[39m*\u001b[39;49m\u001b[39m*\u001b[39;49mkwargs)\n\u001b[1;32m    557\u001b[0m session\u001b[39m.\u001b[39mstate \u001b[39m=\u001b[39m \u001b[39m\"\u001b[39m\u001b[39msucceeded\u001b[39m\u001b[39m\"\u001b[39m\n\u001b[1;32m    559\u001b[0m try_log_autologging_event(\n\u001b[1;32m    560\u001b[0m     AutologgingEventLogger\u001b[39m.\u001b[39mget_logger()\u001b[39m.\u001b[39mlog_patch_function_success,\n\u001b[1;32m    561\u001b[0m     session,\n\u001b[0;32m   (...)\u001b[0m\n\u001b[1;32m    565\u001b[0m     kwargs,\n\u001b[1;32m    566\u001b[0m )\n",
      "File \u001b[0;32m~/miniconda3/envs/exp-tracking-env/lib/python3.9/site-packages/mlflow/utils/autologging_utils/safety.py:254\u001b[0m, in \u001b[0;36mwith_managed_run.<locals>.patch_with_managed_run\u001b[0;34m(original, *args, **kwargs)\u001b[0m\n\u001b[1;32m    251\u001b[0m     managed_run \u001b[39m=\u001b[39m create_managed_run()\n\u001b[1;32m    253\u001b[0m \u001b[39mtry\u001b[39;00m:\n\u001b[0;32m--> 254\u001b[0m     result \u001b[39m=\u001b[39m patch_function(original, \u001b[39m*\u001b[39;49margs, \u001b[39m*\u001b[39;49m\u001b[39m*\u001b[39;49mkwargs)\n\u001b[1;32m    255\u001b[0m \u001b[39mexcept\u001b[39;00m (\u001b[39mException\u001b[39;00m, \u001b[39mKeyboardInterrupt\u001b[39;00m):\n\u001b[1;32m    256\u001b[0m     \u001b[39m# In addition to standard Python exceptions, handle keyboard interrupts to ensure\u001b[39;00m\n\u001b[1;32m    257\u001b[0m     \u001b[39m# that runs are terminated if a user prematurely interrupts training execution\u001b[39;00m\n\u001b[1;32m    258\u001b[0m     \u001b[39m# (e.g. via sigint / ctrl-c)\u001b[39;00m\n\u001b[1;32m    259\u001b[0m     \u001b[39mif\u001b[39;00m managed_run:\n",
      "File \u001b[0;32m~/miniconda3/envs/exp-tracking-env/lib/python3.9/site-packages/mlflow/sklearn/__init__.py:1552\u001b[0m, in \u001b[0;36m_autolog.<locals>.patched_fit\u001b[0;34m(fit_impl, original, self, *args, **kwargs)\u001b[0m\n\u001b[1;32m   1548\u001b[0m \u001b[39mif\u001b[39;00m t\u001b[39m.\u001b[39mshould_log():\n\u001b[1;32m   1549\u001b[0m     \u001b[39m# In `fit_mlflow` call, it will also call metric API for computing training metrics\u001b[39;00m\n\u001b[1;32m   1550\u001b[0m     \u001b[39m# so we need temporarily disable the post_training_metrics patching.\u001b[39;00m\n\u001b[1;32m   1551\u001b[0m     \u001b[39mwith\u001b[39;00m _AUTOLOGGING_METRICS_MANAGER\u001b[39m.\u001b[39mdisable_log_post_training_metrics():\n\u001b[0;32m-> 1552\u001b[0m         result \u001b[39m=\u001b[39m fit_impl(original, \u001b[39mself\u001b[39;49m, \u001b[39m*\u001b[39;49margs, \u001b[39m*\u001b[39;49m\u001b[39m*\u001b[39;49mkwargs)\n\u001b[1;32m   1553\u001b[0m     \u001b[39mif\u001b[39;00m should_log_post_training_metrics:\n\u001b[1;32m   1554\u001b[0m         _AUTOLOGGING_METRICS_MANAGER\u001b[39m.\u001b[39mregister_model(\n\u001b[1;32m   1555\u001b[0m             \u001b[39mself\u001b[39m, mlflow\u001b[39m.\u001b[39mactive_run()\u001b[39m.\u001b[39minfo\u001b[39m.\u001b[39mrun_id\n\u001b[1;32m   1556\u001b[0m         )\n",
      "File \u001b[0;32m~/miniconda3/envs/exp-tracking-env/lib/python3.9/site-packages/mlflow/sklearn/__init__.py:1344\u001b[0m, in \u001b[0;36m_autolog.<locals>.fit_mlflow\u001b[0;34m(original, self, *args, **kwargs)\u001b[0m\n\u001b[1;32m   1342\u001b[0m _log_pretraining_metadata(autologging_client, \u001b[39mself\u001b[39m, \u001b[39m*\u001b[39margs, \u001b[39m*\u001b[39m\u001b[39m*\u001b[39mkwargs)\n\u001b[1;32m   1343\u001b[0m params_logging_future \u001b[39m=\u001b[39m autologging_client\u001b[39m.\u001b[39mflush(synchronous\u001b[39m=\u001b[39m\u001b[39mFalse\u001b[39;00m)\n\u001b[0;32m-> 1344\u001b[0m fit_output \u001b[39m=\u001b[39m original(\u001b[39mself\u001b[39;49m, \u001b[39m*\u001b[39;49margs, \u001b[39m*\u001b[39;49m\u001b[39m*\u001b[39;49mkwargs)\n\u001b[1;32m   1345\u001b[0m _log_posttraining_metadata(autologging_client, \u001b[39mself\u001b[39m, X, y_true, sample_weight)\n\u001b[1;32m   1346\u001b[0m autologging_client\u001b[39m.\u001b[39mflush(synchronous\u001b[39m=\u001b[39m\u001b[39mTrue\u001b[39;00m)\n",
      "File \u001b[0;32m~/miniconda3/envs/exp-tracking-env/lib/python3.9/site-packages/mlflow/utils/autologging_utils/safety.py:536\u001b[0m, in \u001b[0;36msafe_patch.<locals>.safe_patch_function.<locals>.call_original\u001b[0;34m(*og_args, **og_kwargs)\u001b[0m\n\u001b[1;32m    533\u001b[0m         original_result \u001b[39m=\u001b[39m original(\u001b[39m*\u001b[39m_og_args, \u001b[39m*\u001b[39m\u001b[39m*\u001b[39m_og_kwargs)\n\u001b[1;32m    534\u001b[0m         \u001b[39mreturn\u001b[39;00m original_result\n\u001b[0;32m--> 536\u001b[0m \u001b[39mreturn\u001b[39;00m call_original_fn_with_event_logging(_original_fn, og_args, og_kwargs)\n",
      "File \u001b[0;32m~/miniconda3/envs/exp-tracking-env/lib/python3.9/site-packages/mlflow/utils/autologging_utils/safety.py:471\u001b[0m, in \u001b[0;36msafe_patch.<locals>.safe_patch_function.<locals>.call_original_fn_with_event_logging\u001b[0;34m(original_fn, og_args, og_kwargs)\u001b[0m\n\u001b[1;32m    462\u001b[0m \u001b[39mtry\u001b[39;00m:\n\u001b[1;32m    463\u001b[0m     try_log_autologging_event(\n\u001b[1;32m    464\u001b[0m         AutologgingEventLogger\u001b[39m.\u001b[39mget_logger()\u001b[39m.\u001b[39mlog_original_function_start,\n\u001b[1;32m    465\u001b[0m         session,\n\u001b[0;32m   (...)\u001b[0m\n\u001b[1;32m    469\u001b[0m         og_kwargs,\n\u001b[1;32m    470\u001b[0m     )\n\u001b[0;32m--> 471\u001b[0m     original_fn_result \u001b[39m=\u001b[39m original_fn(\u001b[39m*\u001b[39;49mog_args, \u001b[39m*\u001b[39;49m\u001b[39m*\u001b[39;49mog_kwargs)\n\u001b[1;32m    473\u001b[0m     try_log_autologging_event(\n\u001b[1;32m    474\u001b[0m         AutologgingEventLogger\u001b[39m.\u001b[39mget_logger()\u001b[39m.\u001b[39mlog_original_function_success,\n\u001b[1;32m    475\u001b[0m         session,\n\u001b[0;32m   (...)\u001b[0m\n\u001b[1;32m    479\u001b[0m         og_kwargs,\n\u001b[1;32m    480\u001b[0m     )\n\u001b[1;32m    481\u001b[0m     \u001b[39mreturn\u001b[39;00m original_fn_result\n",
      "File \u001b[0;32m~/miniconda3/envs/exp-tracking-env/lib/python3.9/site-packages/mlflow/utils/autologging_utils/safety.py:533\u001b[0m, in \u001b[0;36msafe_patch.<locals>.safe_patch_function.<locals>.call_original.<locals>._original_fn\u001b[0;34m(*_og_args, **_og_kwargs)\u001b[0m\n\u001b[1;32m    525\u001b[0m \u001b[39m# Show all non-MLflow warnings as normal (i.e. not as event logs)\u001b[39;00m\n\u001b[1;32m    526\u001b[0m \u001b[39m# during original function execution, even if silent mode is enabled\u001b[39;00m\n\u001b[1;32m    527\u001b[0m \u001b[39m# (`silent=True`), since these warnings originate from the ML framework\u001b[39;00m\n\u001b[1;32m    528\u001b[0m \u001b[39m# or one of its dependencies and are likely relevant to the caller\u001b[39;00m\n\u001b[1;32m    529\u001b[0m \u001b[39mwith\u001b[39;00m set_non_mlflow_warnings_behavior_for_current_thread(\n\u001b[1;32m    530\u001b[0m     disable_warnings\u001b[39m=\u001b[39m\u001b[39mFalse\u001b[39;00m,\n\u001b[1;32m    531\u001b[0m     reroute_warnings\u001b[39m=\u001b[39m\u001b[39mFalse\u001b[39;00m,\n\u001b[1;32m    532\u001b[0m ):\n\u001b[0;32m--> 533\u001b[0m     original_result \u001b[39m=\u001b[39m original(\u001b[39m*\u001b[39;49m_og_args, \u001b[39m*\u001b[39;49m\u001b[39m*\u001b[39;49m_og_kwargs)\n\u001b[1;32m    534\u001b[0m     \u001b[39mreturn\u001b[39;00m original_result\n",
      "File \u001b[0;32m~/miniconda3/envs/exp-tracking-env/lib/python3.9/site-packages/sklearn/ensemble/_forest.py:476\u001b[0m, in \u001b[0;36mBaseForest.fit\u001b[0;34m(self, X, y, sample_weight)\u001b[0m\n\u001b[1;32m    465\u001b[0m trees \u001b[39m=\u001b[39m [\n\u001b[1;32m    466\u001b[0m     \u001b[39mself\u001b[39m\u001b[39m.\u001b[39m_make_estimator(append\u001b[39m=\u001b[39m\u001b[39mFalse\u001b[39;00m, random_state\u001b[39m=\u001b[39mrandom_state)\n\u001b[1;32m    467\u001b[0m     \u001b[39mfor\u001b[39;00m i \u001b[39min\u001b[39;00m \u001b[39mrange\u001b[39m(n_more_estimators)\n\u001b[1;32m    468\u001b[0m ]\n\u001b[1;32m    470\u001b[0m \u001b[39m# Parallel loop: we prefer the threading backend as the Cython code\u001b[39;00m\n\u001b[1;32m    471\u001b[0m \u001b[39m# for fitting the trees is internally releasing the Python GIL\u001b[39;00m\n\u001b[1;32m    472\u001b[0m \u001b[39m# making threading more efficient than multiprocessing in\u001b[39;00m\n\u001b[1;32m    473\u001b[0m \u001b[39m# that case. However, for joblib 0.12+ we respect any\u001b[39;00m\n\u001b[1;32m    474\u001b[0m \u001b[39m# parallel_backend contexts set at a higher level,\u001b[39;00m\n\u001b[1;32m    475\u001b[0m \u001b[39m# since correctness does not rely on using threads.\u001b[39;00m\n\u001b[0;32m--> 476\u001b[0m trees \u001b[39m=\u001b[39m Parallel(\n\u001b[1;32m    477\u001b[0m     n_jobs\u001b[39m=\u001b[39;49m\u001b[39mself\u001b[39;49m\u001b[39m.\u001b[39;49mn_jobs,\n\u001b[1;32m    478\u001b[0m     verbose\u001b[39m=\u001b[39;49m\u001b[39mself\u001b[39;49m\u001b[39m.\u001b[39;49mverbose,\n\u001b[1;32m    479\u001b[0m     prefer\u001b[39m=\u001b[39;49m\u001b[39m\"\u001b[39;49m\u001b[39mthreads\u001b[39;49m\u001b[39m\"\u001b[39;49m,\n\u001b[1;32m    480\u001b[0m )(\n\u001b[1;32m    481\u001b[0m     delayed(_parallel_build_trees)(\n\u001b[1;32m    482\u001b[0m         t,\n\u001b[1;32m    483\u001b[0m         \u001b[39mself\u001b[39;49m\u001b[39m.\u001b[39;49mbootstrap,\n\u001b[1;32m    484\u001b[0m         X,\n\u001b[1;32m    485\u001b[0m         y,\n\u001b[1;32m    486\u001b[0m         sample_weight,\n\u001b[1;32m    487\u001b[0m         i,\n\u001b[1;32m    488\u001b[0m         \u001b[39mlen\u001b[39;49m(trees),\n\u001b[1;32m    489\u001b[0m         verbose\u001b[39m=\u001b[39;49m\u001b[39mself\u001b[39;49m\u001b[39m.\u001b[39;49mverbose,\n\u001b[1;32m    490\u001b[0m         class_weight\u001b[39m=\u001b[39;49m\u001b[39mself\u001b[39;49m\u001b[39m.\u001b[39;49mclass_weight,\n\u001b[1;32m    491\u001b[0m         n_samples_bootstrap\u001b[39m=\u001b[39;49mn_samples_bootstrap,\n\u001b[1;32m    492\u001b[0m     )\n\u001b[1;32m    493\u001b[0m     \u001b[39mfor\u001b[39;49;00m i, t \u001b[39min\u001b[39;49;00m \u001b[39menumerate\u001b[39;49m(trees)\n\u001b[1;32m    494\u001b[0m )\n\u001b[1;32m    496\u001b[0m \u001b[39m# Collect newly grown trees\u001b[39;00m\n\u001b[1;32m    497\u001b[0m \u001b[39mself\u001b[39m\u001b[39m.\u001b[39mestimators_\u001b[39m.\u001b[39mextend(trees)\n",
      "File \u001b[0;32m~/miniconda3/envs/exp-tracking-env/lib/python3.9/site-packages/joblib/parallel.py:1088\u001b[0m, in \u001b[0;36mParallel.__call__\u001b[0;34m(self, iterable)\u001b[0m\n\u001b[1;32m   1085\u001b[0m \u001b[39mif\u001b[39;00m \u001b[39mself\u001b[39m\u001b[39m.\u001b[39mdispatch_one_batch(iterator):\n\u001b[1;32m   1086\u001b[0m     \u001b[39mself\u001b[39m\u001b[39m.\u001b[39m_iterating \u001b[39m=\u001b[39m \u001b[39mself\u001b[39m\u001b[39m.\u001b[39m_original_iterator \u001b[39mis\u001b[39;00m \u001b[39mnot\u001b[39;00m \u001b[39mNone\u001b[39;00m\n\u001b[0;32m-> 1088\u001b[0m \u001b[39mwhile\u001b[39;00m \u001b[39mself\u001b[39;49m\u001b[39m.\u001b[39;49mdispatch_one_batch(iterator):\n\u001b[1;32m   1089\u001b[0m     \u001b[39mpass\u001b[39;00m\n\u001b[1;32m   1091\u001b[0m \u001b[39mif\u001b[39;00m pre_dispatch \u001b[39m==\u001b[39m \u001b[39m\"\u001b[39m\u001b[39mall\u001b[39m\u001b[39m\"\u001b[39m \u001b[39mor\u001b[39;00m n_jobs \u001b[39m==\u001b[39m \u001b[39m1\u001b[39m:\n\u001b[1;32m   1092\u001b[0m     \u001b[39m# The iterable was consumed all at once by the above for loop.\u001b[39;00m\n\u001b[1;32m   1093\u001b[0m     \u001b[39m# No need to wait for async callbacks to trigger to\u001b[39;00m\n\u001b[1;32m   1094\u001b[0m     \u001b[39m# consumption.\u001b[39;00m\n",
      "File \u001b[0;32m~/miniconda3/envs/exp-tracking-env/lib/python3.9/site-packages/joblib/parallel.py:901\u001b[0m, in \u001b[0;36mParallel.dispatch_one_batch\u001b[0;34m(self, iterator)\u001b[0m\n\u001b[1;32m    899\u001b[0m     \u001b[39mreturn\u001b[39;00m \u001b[39mFalse\u001b[39;00m\n\u001b[1;32m    900\u001b[0m \u001b[39melse\u001b[39;00m:\n\u001b[0;32m--> 901\u001b[0m     \u001b[39mself\u001b[39;49m\u001b[39m.\u001b[39;49m_dispatch(tasks)\n\u001b[1;32m    902\u001b[0m     \u001b[39mreturn\u001b[39;00m \u001b[39mTrue\u001b[39;00m\n",
      "File \u001b[0;32m~/miniconda3/envs/exp-tracking-env/lib/python3.9/site-packages/joblib/parallel.py:819\u001b[0m, in \u001b[0;36mParallel._dispatch\u001b[0;34m(self, batch)\u001b[0m\n\u001b[1;32m    817\u001b[0m \u001b[39mwith\u001b[39;00m \u001b[39mself\u001b[39m\u001b[39m.\u001b[39m_lock:\n\u001b[1;32m    818\u001b[0m     job_idx \u001b[39m=\u001b[39m \u001b[39mlen\u001b[39m(\u001b[39mself\u001b[39m\u001b[39m.\u001b[39m_jobs)\n\u001b[0;32m--> 819\u001b[0m     job \u001b[39m=\u001b[39m \u001b[39mself\u001b[39;49m\u001b[39m.\u001b[39;49m_backend\u001b[39m.\u001b[39;49mapply_async(batch, callback\u001b[39m=\u001b[39;49mcb)\n\u001b[1;32m    820\u001b[0m     \u001b[39m# A job can complete so quickly than its callback is\u001b[39;00m\n\u001b[1;32m    821\u001b[0m     \u001b[39m# called before we get here, causing self._jobs to\u001b[39;00m\n\u001b[1;32m    822\u001b[0m     \u001b[39m# grow. To ensure correct results ordering, .insert is\u001b[39;00m\n\u001b[1;32m    823\u001b[0m     \u001b[39m# used (rather than .append) in the following line\u001b[39;00m\n\u001b[1;32m    824\u001b[0m     \u001b[39mself\u001b[39m\u001b[39m.\u001b[39m_jobs\u001b[39m.\u001b[39minsert(job_idx, job)\n",
      "File \u001b[0;32m~/miniconda3/envs/exp-tracking-env/lib/python3.9/site-packages/joblib/_parallel_backends.py:208\u001b[0m, in \u001b[0;36mSequentialBackend.apply_async\u001b[0;34m(self, func, callback)\u001b[0m\n\u001b[1;32m    206\u001b[0m \u001b[39mdef\u001b[39;00m \u001b[39mapply_async\u001b[39m(\u001b[39mself\u001b[39m, func, callback\u001b[39m=\u001b[39m\u001b[39mNone\u001b[39;00m):\n\u001b[1;32m    207\u001b[0m     \u001b[39m\"\"\"Schedule a func to be run\"\"\"\u001b[39;00m\n\u001b[0;32m--> 208\u001b[0m     result \u001b[39m=\u001b[39m ImmediateResult(func)\n\u001b[1;32m    209\u001b[0m     \u001b[39mif\u001b[39;00m callback:\n\u001b[1;32m    210\u001b[0m         callback(result)\n",
      "File \u001b[0;32m~/miniconda3/envs/exp-tracking-env/lib/python3.9/site-packages/joblib/_parallel_backends.py:597\u001b[0m, in \u001b[0;36mImmediateResult.__init__\u001b[0;34m(self, batch)\u001b[0m\n\u001b[1;32m    594\u001b[0m \u001b[39mdef\u001b[39;00m \u001b[39m__init__\u001b[39m(\u001b[39mself\u001b[39m, batch):\n\u001b[1;32m    595\u001b[0m     \u001b[39m# Don't delay the application, to avoid keeping the input\u001b[39;00m\n\u001b[1;32m    596\u001b[0m     \u001b[39m# arguments in memory\u001b[39;00m\n\u001b[0;32m--> 597\u001b[0m     \u001b[39mself\u001b[39m\u001b[39m.\u001b[39mresults \u001b[39m=\u001b[39m batch()\n",
      "File \u001b[0;32m~/miniconda3/envs/exp-tracking-env/lib/python3.9/site-packages/joblib/parallel.py:288\u001b[0m, in \u001b[0;36mBatchedCalls.__call__\u001b[0;34m(self)\u001b[0m\n\u001b[1;32m    284\u001b[0m \u001b[39mdef\u001b[39;00m \u001b[39m__call__\u001b[39m(\u001b[39mself\u001b[39m):\n\u001b[1;32m    285\u001b[0m     \u001b[39m# Set the default nested backend to self._backend but do not set the\u001b[39;00m\n\u001b[1;32m    286\u001b[0m     \u001b[39m# change the default number of processes to -1\u001b[39;00m\n\u001b[1;32m    287\u001b[0m     \u001b[39mwith\u001b[39;00m parallel_backend(\u001b[39mself\u001b[39m\u001b[39m.\u001b[39m_backend, n_jobs\u001b[39m=\u001b[39m\u001b[39mself\u001b[39m\u001b[39m.\u001b[39m_n_jobs):\n\u001b[0;32m--> 288\u001b[0m         \u001b[39mreturn\u001b[39;00m [func(\u001b[39m*\u001b[39margs, \u001b[39m*\u001b[39m\u001b[39m*\u001b[39mkwargs)\n\u001b[1;32m    289\u001b[0m                 \u001b[39mfor\u001b[39;00m func, args, kwargs \u001b[39min\u001b[39;00m \u001b[39mself\u001b[39m\u001b[39m.\u001b[39mitems]\n",
      "File \u001b[0;32m~/miniconda3/envs/exp-tracking-env/lib/python3.9/site-packages/joblib/parallel.py:288\u001b[0m, in \u001b[0;36m<listcomp>\u001b[0;34m(.0)\u001b[0m\n\u001b[1;32m    284\u001b[0m \u001b[39mdef\u001b[39;00m \u001b[39m__call__\u001b[39m(\u001b[39mself\u001b[39m):\n\u001b[1;32m    285\u001b[0m     \u001b[39m# Set the default nested backend to self._backend but do not set the\u001b[39;00m\n\u001b[1;32m    286\u001b[0m     \u001b[39m# change the default number of processes to -1\u001b[39;00m\n\u001b[1;32m    287\u001b[0m     \u001b[39mwith\u001b[39;00m parallel_backend(\u001b[39mself\u001b[39m\u001b[39m.\u001b[39m_backend, n_jobs\u001b[39m=\u001b[39m\u001b[39mself\u001b[39m\u001b[39m.\u001b[39m_n_jobs):\n\u001b[0;32m--> 288\u001b[0m         \u001b[39mreturn\u001b[39;00m [func(\u001b[39m*\u001b[39;49margs, \u001b[39m*\u001b[39;49m\u001b[39m*\u001b[39;49mkwargs)\n\u001b[1;32m    289\u001b[0m                 \u001b[39mfor\u001b[39;00m func, args, kwargs \u001b[39min\u001b[39;00m \u001b[39mself\u001b[39m\u001b[39m.\u001b[39mitems]\n",
      "File \u001b[0;32m~/miniconda3/envs/exp-tracking-env/lib/python3.9/site-packages/sklearn/utils/fixes.py:117\u001b[0m, in \u001b[0;36m_FuncWrapper.__call__\u001b[0;34m(self, *args, **kwargs)\u001b[0m\n\u001b[1;32m    115\u001b[0m \u001b[39mdef\u001b[39;00m \u001b[39m__call__\u001b[39m(\u001b[39mself\u001b[39m, \u001b[39m*\u001b[39margs, \u001b[39m*\u001b[39m\u001b[39m*\u001b[39mkwargs):\n\u001b[1;32m    116\u001b[0m     \u001b[39mwith\u001b[39;00m config_context(\u001b[39m*\u001b[39m\u001b[39m*\u001b[39m\u001b[39mself\u001b[39m\u001b[39m.\u001b[39mconfig):\n\u001b[0;32m--> 117\u001b[0m         \u001b[39mreturn\u001b[39;00m \u001b[39mself\u001b[39;49m\u001b[39m.\u001b[39;49mfunction(\u001b[39m*\u001b[39;49margs, \u001b[39m*\u001b[39;49m\u001b[39m*\u001b[39;49mkwargs)\n",
      "File \u001b[0;32m~/miniconda3/envs/exp-tracking-env/lib/python3.9/site-packages/sklearn/ensemble/_forest.py:189\u001b[0m, in \u001b[0;36m_parallel_build_trees\u001b[0;34m(tree, bootstrap, X, y, sample_weight, tree_idx, n_trees, verbose, class_weight, n_samples_bootstrap)\u001b[0m\n\u001b[1;32m    186\u001b[0m     \u001b[39melif\u001b[39;00m class_weight \u001b[39m==\u001b[39m \u001b[39m\"\u001b[39m\u001b[39mbalanced_subsample\u001b[39m\u001b[39m\"\u001b[39m:\n\u001b[1;32m    187\u001b[0m         curr_sample_weight \u001b[39m*\u001b[39m\u001b[39m=\u001b[39m compute_sample_weight(\u001b[39m\"\u001b[39m\u001b[39mbalanced\u001b[39m\u001b[39m\"\u001b[39m, y, indices\u001b[39m=\u001b[39mindices)\n\u001b[0;32m--> 189\u001b[0m     tree\u001b[39m.\u001b[39;49mfit(X, y, sample_weight\u001b[39m=\u001b[39;49mcurr_sample_weight, check_input\u001b[39m=\u001b[39;49m\u001b[39mFalse\u001b[39;49;00m)\n\u001b[1;32m    190\u001b[0m \u001b[39melse\u001b[39;00m:\n\u001b[1;32m    191\u001b[0m     tree\u001b[39m.\u001b[39mfit(X, y, sample_weight\u001b[39m=\u001b[39msample_weight, check_input\u001b[39m=\u001b[39m\u001b[39mFalse\u001b[39;00m)\n",
      "File \u001b[0;32m~/miniconda3/envs/exp-tracking-env/lib/python3.9/site-packages/mlflow/utils/autologging_utils/safety.py:555\u001b[0m, in \u001b[0;36msafe_patch.<locals>.safe_patch_function\u001b[0;34m(*args, **kwargs)\u001b[0m\n\u001b[1;32m    553\u001b[0m     patch_function\u001b[39m.\u001b[39mcall(call_original, \u001b[39m*\u001b[39margs, \u001b[39m*\u001b[39m\u001b[39m*\u001b[39mkwargs)\n\u001b[1;32m    554\u001b[0m \u001b[39melse\u001b[39;00m:\n\u001b[0;32m--> 555\u001b[0m     patch_function(call_original, \u001b[39m*\u001b[39;49margs, \u001b[39m*\u001b[39;49m\u001b[39m*\u001b[39;49mkwargs)\n\u001b[1;32m    557\u001b[0m session\u001b[39m.\u001b[39mstate \u001b[39m=\u001b[39m \u001b[39m\"\u001b[39m\u001b[39msucceeded\u001b[39m\u001b[39m\"\u001b[39m\n\u001b[1;32m    559\u001b[0m try_log_autologging_event(\n\u001b[1;32m    560\u001b[0m     AutologgingEventLogger\u001b[39m.\u001b[39mget_logger()\u001b[39m.\u001b[39mlog_patch_function_success,\n\u001b[1;32m    561\u001b[0m     session,\n\u001b[0;32m   (...)\u001b[0m\n\u001b[1;32m    565\u001b[0m     kwargs,\n\u001b[1;32m    566\u001b[0m )\n",
      "File \u001b[0;32m~/miniconda3/envs/exp-tracking-env/lib/python3.9/site-packages/mlflow/utils/autologging_utils/safety.py:254\u001b[0m, in \u001b[0;36mwith_managed_run.<locals>.patch_with_managed_run\u001b[0;34m(original, *args, **kwargs)\u001b[0m\n\u001b[1;32m    251\u001b[0m     managed_run \u001b[39m=\u001b[39m create_managed_run()\n\u001b[1;32m    253\u001b[0m \u001b[39mtry\u001b[39;00m:\n\u001b[0;32m--> 254\u001b[0m     result \u001b[39m=\u001b[39m patch_function(original, \u001b[39m*\u001b[39;49margs, \u001b[39m*\u001b[39;49m\u001b[39m*\u001b[39;49mkwargs)\n\u001b[1;32m    255\u001b[0m \u001b[39mexcept\u001b[39;00m (\u001b[39mException\u001b[39;00m, \u001b[39mKeyboardInterrupt\u001b[39;00m):\n\u001b[1;32m    256\u001b[0m     \u001b[39m# In addition to standard Python exceptions, handle keyboard interrupts to ensure\u001b[39;00m\n\u001b[1;32m    257\u001b[0m     \u001b[39m# that runs are terminated if a user prematurely interrupts training execution\u001b[39;00m\n\u001b[1;32m    258\u001b[0m     \u001b[39m# (e.g. via sigint / ctrl-c)\u001b[39;00m\n\u001b[1;32m    259\u001b[0m     \u001b[39mif\u001b[39;00m managed_run:\n",
      "File \u001b[0;32m~/miniconda3/envs/exp-tracking-env/lib/python3.9/site-packages/mlflow/sklearn/__init__.py:1559\u001b[0m, in \u001b[0;36m_autolog.<locals>.patched_fit\u001b[0;34m(fit_impl, original, self, *args, **kwargs)\u001b[0m\n\u001b[1;32m   1557\u001b[0m     \u001b[39mreturn\u001b[39;00m result\n\u001b[1;32m   1558\u001b[0m \u001b[39melse\u001b[39;00m:\n\u001b[0;32m-> 1559\u001b[0m     \u001b[39mreturn\u001b[39;00m original(\u001b[39mself\u001b[39;49m, \u001b[39m*\u001b[39;49margs, \u001b[39m*\u001b[39;49m\u001b[39m*\u001b[39;49mkwargs)\n",
      "File \u001b[0;32m~/miniconda3/envs/exp-tracking-env/lib/python3.9/site-packages/mlflow/utils/autologging_utils/safety.py:536\u001b[0m, in \u001b[0;36msafe_patch.<locals>.safe_patch_function.<locals>.call_original\u001b[0;34m(*og_args, **og_kwargs)\u001b[0m\n\u001b[1;32m    533\u001b[0m         original_result \u001b[39m=\u001b[39m original(\u001b[39m*\u001b[39m_og_args, \u001b[39m*\u001b[39m\u001b[39m*\u001b[39m_og_kwargs)\n\u001b[1;32m    534\u001b[0m         \u001b[39mreturn\u001b[39;00m original_result\n\u001b[0;32m--> 536\u001b[0m \u001b[39mreturn\u001b[39;00m call_original_fn_with_event_logging(_original_fn, og_args, og_kwargs)\n",
      "File \u001b[0;32m~/miniconda3/envs/exp-tracking-env/lib/python3.9/site-packages/mlflow/utils/autologging_utils/safety.py:471\u001b[0m, in \u001b[0;36msafe_patch.<locals>.safe_patch_function.<locals>.call_original_fn_with_event_logging\u001b[0;34m(original_fn, og_args, og_kwargs)\u001b[0m\n\u001b[1;32m    462\u001b[0m \u001b[39mtry\u001b[39;00m:\n\u001b[1;32m    463\u001b[0m     try_log_autologging_event(\n\u001b[1;32m    464\u001b[0m         AutologgingEventLogger\u001b[39m.\u001b[39mget_logger()\u001b[39m.\u001b[39mlog_original_function_start,\n\u001b[1;32m    465\u001b[0m         session,\n\u001b[0;32m   (...)\u001b[0m\n\u001b[1;32m    469\u001b[0m         og_kwargs,\n\u001b[1;32m    470\u001b[0m     )\n\u001b[0;32m--> 471\u001b[0m     original_fn_result \u001b[39m=\u001b[39m original_fn(\u001b[39m*\u001b[39;49mog_args, \u001b[39m*\u001b[39;49m\u001b[39m*\u001b[39;49mog_kwargs)\n\u001b[1;32m    473\u001b[0m     try_log_autologging_event(\n\u001b[1;32m    474\u001b[0m         AutologgingEventLogger\u001b[39m.\u001b[39mget_logger()\u001b[39m.\u001b[39mlog_original_function_success,\n\u001b[1;32m    475\u001b[0m         session,\n\u001b[0;32m   (...)\u001b[0m\n\u001b[1;32m    479\u001b[0m         og_kwargs,\n\u001b[1;32m    480\u001b[0m     )\n\u001b[1;32m    481\u001b[0m     \u001b[39mreturn\u001b[39;00m original_fn_result\n",
      "File \u001b[0;32m~/miniconda3/envs/exp-tracking-env/lib/python3.9/site-packages/mlflow/utils/autologging_utils/safety.py:533\u001b[0m, in \u001b[0;36msafe_patch.<locals>.safe_patch_function.<locals>.call_original.<locals>._original_fn\u001b[0;34m(*_og_args, **_og_kwargs)\u001b[0m\n\u001b[1;32m    525\u001b[0m \u001b[39m# Show all non-MLflow warnings as normal (i.e. not as event logs)\u001b[39;00m\n\u001b[1;32m    526\u001b[0m \u001b[39m# during original function execution, even if silent mode is enabled\u001b[39;00m\n\u001b[1;32m    527\u001b[0m \u001b[39m# (`silent=True`), since these warnings originate from the ML framework\u001b[39;00m\n\u001b[1;32m    528\u001b[0m \u001b[39m# or one of its dependencies and are likely relevant to the caller\u001b[39;00m\n\u001b[1;32m    529\u001b[0m \u001b[39mwith\u001b[39;00m set_non_mlflow_warnings_behavior_for_current_thread(\n\u001b[1;32m    530\u001b[0m     disable_warnings\u001b[39m=\u001b[39m\u001b[39mFalse\u001b[39;00m,\n\u001b[1;32m    531\u001b[0m     reroute_warnings\u001b[39m=\u001b[39m\u001b[39mFalse\u001b[39;00m,\n\u001b[1;32m    532\u001b[0m ):\n\u001b[0;32m--> 533\u001b[0m     original_result \u001b[39m=\u001b[39m original(\u001b[39m*\u001b[39;49m_og_args, \u001b[39m*\u001b[39;49m\u001b[39m*\u001b[39;49m_og_kwargs)\n\u001b[1;32m    534\u001b[0m     \u001b[39mreturn\u001b[39;00m original_result\n",
      "File \u001b[0;32m~/miniconda3/envs/exp-tracking-env/lib/python3.9/site-packages/sklearn/tree/_classes.py:1342\u001b[0m, in \u001b[0;36mDecisionTreeRegressor.fit\u001b[0;34m(self, X, y, sample_weight, check_input)\u001b[0m\n\u001b[1;32m   1313\u001b[0m \u001b[39mdef\u001b[39;00m \u001b[39mfit\u001b[39m(\u001b[39mself\u001b[39m, X, y, sample_weight\u001b[39m=\u001b[39m\u001b[39mNone\u001b[39;00m, check_input\u001b[39m=\u001b[39m\u001b[39mTrue\u001b[39;00m):\n\u001b[1;32m   1314\u001b[0m     \u001b[39m\"\"\"Build a decision tree regressor from the training set (X, y).\u001b[39;00m\n\u001b[1;32m   1315\u001b[0m \n\u001b[1;32m   1316\u001b[0m \u001b[39m    Parameters\u001b[39;00m\n\u001b[0;32m   (...)\u001b[0m\n\u001b[1;32m   1339\u001b[0m \u001b[39m        Fitted estimator.\u001b[39;00m\n\u001b[1;32m   1340\u001b[0m \u001b[39m    \"\"\"\u001b[39;00m\n\u001b[0;32m-> 1342\u001b[0m     \u001b[39msuper\u001b[39;49m()\u001b[39m.\u001b[39;49mfit(\n\u001b[1;32m   1343\u001b[0m         X,\n\u001b[1;32m   1344\u001b[0m         y,\n\u001b[1;32m   1345\u001b[0m         sample_weight\u001b[39m=\u001b[39;49msample_weight,\n\u001b[1;32m   1346\u001b[0m         check_input\u001b[39m=\u001b[39;49mcheck_input,\n\u001b[1;32m   1347\u001b[0m     )\n\u001b[1;32m   1348\u001b[0m     \u001b[39mreturn\u001b[39;00m \u001b[39mself\u001b[39m\n",
      "File \u001b[0;32m~/miniconda3/envs/exp-tracking-env/lib/python3.9/site-packages/sklearn/tree/_classes.py:458\u001b[0m, in \u001b[0;36mBaseDecisionTree.fit\u001b[0;34m(self, X, y, sample_weight, check_input)\u001b[0m\n\u001b[1;32m    447\u001b[0m \u001b[39melse\u001b[39;00m:\n\u001b[1;32m    448\u001b[0m     builder \u001b[39m=\u001b[39m BestFirstTreeBuilder(\n\u001b[1;32m    449\u001b[0m         splitter,\n\u001b[1;32m    450\u001b[0m         min_samples_split,\n\u001b[0;32m   (...)\u001b[0m\n\u001b[1;32m    455\u001b[0m         \u001b[39mself\u001b[39m\u001b[39m.\u001b[39mmin_impurity_decrease,\n\u001b[1;32m    456\u001b[0m     )\n\u001b[0;32m--> 458\u001b[0m builder\u001b[39m.\u001b[39;49mbuild(\u001b[39mself\u001b[39;49m\u001b[39m.\u001b[39;49mtree_, X, y, sample_weight)\n\u001b[1;32m    460\u001b[0m \u001b[39mif\u001b[39;00m \u001b[39mself\u001b[39m\u001b[39m.\u001b[39mn_outputs_ \u001b[39m==\u001b[39m \u001b[39m1\u001b[39m \u001b[39mand\u001b[39;00m is_classifier(\u001b[39mself\u001b[39m):\n\u001b[1;32m    461\u001b[0m     \u001b[39mself\u001b[39m\u001b[39m.\u001b[39mn_classes_ \u001b[39m=\u001b[39m \u001b[39mself\u001b[39m\u001b[39m.\u001b[39mn_classes_[\u001b[39m0\u001b[39m]\n",
      "\u001b[0;31mKeyboardInterrupt\u001b[0m: "
     ]
    }
   ],
   "source": [
    "from sklearn.ensemble import RandomForestRegressor, GradientBoostingRegressor, ExtraTreesRegressor\n",
    "from sklearn.svm import LinearSVR\n",
    "\n",
    "mlflow.sklearn.autolog()\n",
    "\n",
    "for model_class in (RandomForestRegressor, GradientBoostingRegressor, ExtraTreesRegressor, LinearSVR):\n",
    "\n",
    "    with mlflow.start_run():\n",
    "\n",
    "        mlflow.log_param(\"train-data-path\", \"./data/green_tripdata_2021-01.csv\")\n",
    "        mlflow.log_param(\"valid-data-path\", \"./data/green_tripdata_2021-02.csv\")\n",
    "        mlflow.log_artifact(\"models/preprocessor.b\", artifact_path=\"preprocessor\")\n",
    "\n",
    "        mlmodel = model_class()\n",
    "        mlmodel.fit(X_train, y_train)\n",
    "\n",
    "        y_pred = mlmodel.predict(X_val)\n",
    "        rmse = mean_squared_error(y_val, y_pred, squared=False)\n",
    "        mlflow.log_metric(\"rmse\", rmse)\n",
    "        "
   ]
  },
  {
   "cell_type": "markdown",
   "metadata": {},
   "source": [
    "### Model Registry"
   ]
  },
  {
   "cell_type": "code",
   "execution_count": 31,
   "metadata": {},
   "outputs": [
    {
     "name": "stdout",
     "output_type": "stream",
     "text": [
      "\u001b[0m\u001b[01;34mdata\u001b[0m/  mlflow.db  \u001b[01;34mmlruns\u001b[0m/  \u001b[01;34mmodels\u001b[0m/  Week2.ipynb\n"
     ]
    }
   ],
   "source": [
    "ls"
   ]
  },
  {
   "cell_type": "code",
   "execution_count": 32,
   "metadata": {},
   "outputs": [],
   "source": [
    "\n",
    "from mlflow.tracking import MlflowClient\n",
    "\n",
    "MLFLOW_TRACKING_URI = \"sqlite:///mlflow.db\""
   ]
  },
  {
   "cell_type": "markdown",
   "metadata": {},
   "source": [
    "### Interacting with the MLflow tracking server\n",
    "\n",
    "The MlflowClient object allows us to interact with...\n",
    "\n",
    "* an MLflow Tracking Server that creates and manages experiments and runs.\n",
    "* an MLflow Registry Server that creates and manages registered models and model versions.\n"
   ]
  },
  {
   "cell_type": "code",
   "execution_count": 33,
   "metadata": {},
   "outputs": [
    {
     "name": "stderr",
     "output_type": "stream",
     "text": [
      "/tmp/ipykernel_11078/1734911439.py:3: FutureWarning: ``mlflow.tracking.client.MlflowClient.list_experiments`` is deprecated. This method will be removed in a future release. Use ``search_experiments()`` instead.\n",
      "  client.list_experiments()\n"
     ]
    },
    {
     "data": {
      "text/plain": [
       "[<Experiment: artifact_location='./mlruns/0', creation_time=1667127822651, experiment_id='0', last_update_time=1667127822651, lifecycle_stage='active', name='Default', tags={}>,\n",
       " <Experiment: artifact_location='./mlruns/1', creation_time=1667127822720, experiment_id='1', last_update_time=1667127822720, lifecycle_stage='active', name='nyc-taxi-experiment', tags={}>]"
      ]
     },
     "execution_count": 33,
     "metadata": {},
     "output_type": "execute_result"
    }
   ],
   "source": [
    "client = MlflowClient(tracking_uri=MLFLOW_TRACKING_URI)\n",
    "\n",
    "client.list_experiments()"
   ]
  },
  {
   "cell_type": "code",
   "execution_count": 34,
   "metadata": {},
   "outputs": [
    {
     "data": {
      "text/plain": [
       "'2'"
      ]
     },
     "execution_count": 34,
     "metadata": {},
     "output_type": "execute_result"
    }
   ],
   "source": [
    "# Lets create a new experiment\n",
    "\n",
    "client.create_experiment(name = \"my-cool-experiment\")"
   ]
  },
  {
   "cell_type": "markdown",
   "metadata": {},
   "source": [
    "Let's check the latest versions for the experiment with id 1"
   ]
  },
  {
   "cell_type": "code",
   "execution_count": 35,
   "metadata": {},
   "outputs": [],
   "source": [
    "from mlflow.entities import ViewType"
   ]
  },
  {
   "cell_type": "code",
   "execution_count": 36,
   "metadata": {},
   "outputs": [],
   "source": [
    "runs = client.search_runs(\n",
    "    experiment_ids='1',\n",
    "    filter_string='metrics.rmse < 7',\n",
    "    run_view_type=ViewType.ACTIVE_ONLY,\n",
    "    max_results=5,\n",
    "    order_by=[\"metrics.rmse ASC\"]\n",
    ")"
   ]
  },
  {
   "cell_type": "code",
   "execution_count": 37,
   "metadata": {},
   "outputs": [
    {
     "name": "stdout",
     "output_type": "stream",
     "text": [
      "run id 13f8e1801b2f4063b4d347cf52932578, rmse: 5.8146\n",
      "run id a86fa21195e145dfb85ab4412abf49e2, rmse: 5.9015\n",
      "run id 5d75aab81ab14a4e837f8fe47772a328, rmse: 5.9116\n",
      "run id f4ea080a005c4772afcd9556a0de43b4, rmse: 5.9496\n",
      "run id d1757aa3c851439f8b256fcafe0e1008, rmse: 5.9710\n"
     ]
    }
   ],
   "source": [
    "for run in runs:\n",
    "    print(f\"run id {run.info.run_id}, rmse: {run.data.metrics['rmse']:.4f}\")"
   ]
  },
  {
   "cell_type": "markdown",
   "metadata": {},
   "source": [
    "\n",
    "### Interacting with the Model Registry\n",
    "\n",
    "In this section We will use the MlflowClient instance to:\n",
    "\n",
    "1. Register a new version for the experiment nyc-taxi-regressor\n",
    "2. Retrieve the latests versions of the model nyc-taxi-regressor and check that a new version 4 was created.\n",
    "3. Transition the version 4 to \"Staging\" and adding annotations to it.\n",
    "\n"
   ]
  },
  {
   "cell_type": "code",
   "execution_count": 38,
   "metadata": {},
   "outputs": [],
   "source": [
    "import mlflow\n",
    "mlflow.set_tracking_uri(MLFLOW_TRACKING_URI)"
   ]
  },
  {
   "cell_type": "code",
   "execution_count": 39,
   "metadata": {},
   "outputs": [
    {
     "name": "stderr",
     "output_type": "stream",
     "text": [
      "Successfully registered model 'nyc-taxi-regressor'.\n",
      "2022/10/30 17:11:19 INFO mlflow.tracking._model_registry.client: Waiting up to 300 seconds for model version to finish creation.                     Model name: nyc-taxi-regressor, version 1\n",
      "Created version '1' of model 'nyc-taxi-regressor'.\n"
     ]
    },
    {
     "data": {
      "text/plain": [
       "<ModelVersion: creation_timestamp=1667130079355, current_stage='None', description=None, last_updated_timestamp=1667130079355, name='nyc-taxi-regressor', run_id='a86fa21195e145dfb85ab4412abf49e2', run_link=None, source='./mlruns/1/a86fa21195e145dfb85ab4412abf49e2/artifacts/model', status='READY', status_message=None, tags={}, user_id=None, version=1>"
      ]
     },
     "execution_count": 39,
     "metadata": {},
     "output_type": "execute_result"
    }
   ],
   "source": [
    "run_id = 'a86fa21195e145dfb85ab4412abf49e2'\n",
    "model_uri = f\"runs:/{run_id}/model\"\n",
    "mlflow.register_model(model_uri = model_uri,\n",
    "                      name = 'nyc-taxi-regressor')\n"
   ]
  },
  {
   "cell_type": "code",
   "execution_count": 42,
   "metadata": {},
   "outputs": [
    {
     "name": "stdout",
     "output_type": "stream",
     "text": [
      "version: 1, stage: None\n"
     ]
    }
   ],
   "source": [
    "model_name = 'nyc-taxi-regressor'\n",
    "latest_version = client.get_latest_versions(name = model_name)\n",
    "\n",
    "for version in latest_version:\n",
    "    print(f\"version: {version.version}, stage: {version.current_stage}\")"
   ]
  },
  {
   "cell_type": "code",
   "execution_count": 43,
   "metadata": {},
   "outputs": [
    {
     "data": {
      "text/plain": [
       "<ModelVersion: creation_timestamp=1667130079355, current_stage='Staging', description=None, last_updated_timestamp=1667130129461, name='nyc-taxi-regressor', run_id='a86fa21195e145dfb85ab4412abf49e2', run_link=None, source='./mlruns/1/a86fa21195e145dfb85ab4412abf49e2/artifacts/model', status='READY', status_message=None, tags={}, user_id=None, version=1>"
      ]
     },
     "execution_count": 43,
     "metadata": {},
     "output_type": "execute_result"
    }
   ],
   "source": [
    "### Adding to a new area\n",
    "\n",
    "model_version = 1\n",
    "new_stage = \"Staging\"\n",
    "client.transition_model_version_stage(\n",
    "    name = model_name,\n",
    "    version = model_version,\n",
    "    stage = new_stage,\n",
    "    archive_existing_versions=False\n",
    ")"
   ]
  },
  {
   "cell_type": "code",
   "execution_count": 44,
   "metadata": {},
   "outputs": [
    {
     "data": {
      "text/plain": [
       "<ModelVersion: creation_timestamp=1667130079355, current_stage='Staging', description='The model version 1 was transitioned to Staging on 2022-10-30', last_updated_timestamp=1667130131496, name='nyc-taxi-regressor', run_id='a86fa21195e145dfb85ab4412abf49e2', run_link=None, source='./mlruns/1/a86fa21195e145dfb85ab4412abf49e2/artifacts/model', status='READY', status_message=None, tags={}, user_id=None, version=1>"
      ]
     },
     "execution_count": 44,
     "metadata": {},
     "output_type": "execute_result"
    }
   ],
   "source": [
    "\n",
    "# Adding a description\n",
    "\n",
    "from datetime import datetime\n",
    "\n",
    "date = datetime.today().date()\n",
    "client.update_model_version(\n",
    "    name=model_name,\n",
    "    version = model_version,\n",
    "    description= f\"The model version {model_version} was transitioned to {new_stage} on {date}\"\n",
    ")"
   ]
  },
  {
   "cell_type": "markdown",
   "metadata": {},
   "source": [
    "### Adding this model to production as Version 2 for nyc_taxi_regressor model\n",
    "\n",
    "So we retrained the nyc taxi regression model and now we want to add it in model registry under the 'nyc-taxi-regressor' model name as version 2 model\n"
   ]
  },
  {
   "cell_type": "code",
   "execution_count": 45,
   "metadata": {},
   "outputs": [
    {
     "name": "stderr",
     "output_type": "stream",
     "text": [
      "Registered model 'nyc-taxi-regressor' already exists. Creating a new version of this model...\n",
      "2022/10/30 17:12:37 INFO mlflow.tracking._model_registry.client: Waiting up to 300 seconds for model version to finish creation.                     Model name: nyc-taxi-regressor, version 2\n",
      "Created version '2' of model 'nyc-taxi-regressor'.\n"
     ]
    },
    {
     "data": {
      "text/plain": [
       "<ModelVersion: creation_timestamp=1667130157181, current_stage='None', description=None, last_updated_timestamp=1667130157181, name='nyc-taxi-regressor', run_id='13f8e1801b2f4063b4d347cf52932578', run_link=None, source='./mlruns/1/13f8e1801b2f4063b4d347cf52932578/artifacts/model', status='READY', status_message=None, tags={}, user_id=None, version=2>"
      ]
     },
     "execution_count": 45,
     "metadata": {},
     "output_type": "execute_result"
    }
   ],
   "source": [
    "# Adding this model id to 'nyc-taxi-regressor' model registry\n",
    "\n",
    "run_id = '13f8e1801b2f4063b4d347cf52932578'\n",
    "model_uri = f\"runs:/{run_id}/model\"\n",
    "mlflow.register_model(model_uri = model_uri,\n",
    "                      name = 'nyc-taxi-regressor')"
   ]
  },
  {
   "cell_type": "code",
   "execution_count": 46,
   "metadata": {},
   "outputs": [
    {
     "data": {
      "text/plain": [
       "'runs:/13f8e1801b2f4063b4d347cf52932578/model'"
      ]
     },
     "execution_count": 46,
     "metadata": {},
     "output_type": "execute_result"
    }
   ],
   "source": [
    "model_uri"
   ]
  },
  {
   "cell_type": "code",
   "execution_count": 47,
   "metadata": {},
   "outputs": [
    {
     "name": "stdout",
     "output_type": "stream",
     "text": [
      "version: 1, stage: Staging\n",
      "version: 2, stage: None\n"
     ]
    }
   ],
   "source": [
    "# Check the version assigned\n",
    "\n",
    "model_name = 'nyc-taxi-regressor'\n",
    "latest_version = client.get_latest_versions(name = model_name)\n",
    "\n",
    "for version in latest_version:\n",
    "    print(f\"version: {version.version}, stage: {version.current_stage}\")"
   ]
  },
  {
   "cell_type": "code",
   "execution_count": 48,
   "metadata": {},
   "outputs": [
    {
     "data": {
      "text/plain": [
       "<ModelVersion: creation_timestamp=1667130157181, current_stage='Production', description=None, last_updated_timestamp=1667130474721, name='nyc-taxi-regressor', run_id='13f8e1801b2f4063b4d347cf52932578', run_link=None, source='./mlruns/1/13f8e1801b2f4063b4d347cf52932578/artifacts/model', status='READY', status_message=None, tags={}, user_id=None, version=2>"
      ]
     },
     "execution_count": 48,
     "metadata": {},
     "output_type": "execute_result"
    }
   ],
   "source": [
    "# Sending version 3 to production\n",
    "model_version = 2\n",
    "new_stage = \"Production\"\n",
    "client.transition_model_version_stage(\n",
    "    name = model_name,\n",
    "    version = model_version,\n",
    "    stage = new_stage,\n",
    "    archive_existing_versions=False\n",
    ")"
   ]
  },
  {
   "cell_type": "code",
   "execution_count": 49,
   "metadata": {},
   "outputs": [
    {
     "name": "stdout",
     "output_type": "stream",
     "text": [
      "version: 1, stage: Staging\n",
      "version: 2, stage: Production\n"
     ]
    }
   ],
   "source": [
    "# Check the version assigned\n",
    "\n",
    "model_name = 'nyc-taxi-regressor'\n",
    "latest_version = client.get_latest_versions(name = model_name)\n",
    "\n",
    "for version in latest_version:\n",
    "    print(f\"version: {version.version}, stage: {version.current_stage}\")"
   ]
  },
  {
   "cell_type": "code",
   "execution_count": 50,
   "metadata": {},
   "outputs": [
    {
     "data": {
      "text/plain": [
       "<ModelVersion: creation_timestamp=1667130157181, current_stage='Production', description='The model version 2 was transitioned to Production on 2022-10-30', last_updated_timestamp=1667130565222, name='nyc-taxi-regressor', run_id='13f8e1801b2f4063b4d347cf52932578', run_link=None, source='./mlruns/1/13f8e1801b2f4063b4d347cf52932578/artifacts/model', status='READY', status_message=None, tags={}, user_id=None, version=2>"
      ]
     },
     "execution_count": 50,
     "metadata": {},
     "output_type": "execute_result"
    }
   ],
   "source": [
    "# Update description\n",
    "from datetime import datetime\n",
    "\n",
    "date = datetime.today().date()\n",
    "client.update_model_version(\n",
    "    name = model_name,\n",
    "    version = model_version,\n",
    "    description = f\"The model version {model_version} was transitioned to {new_stage} on {date}\"\n",
    ")"
   ]
  },
  {
   "cell_type": "markdown",
   "metadata": {},
   "source": [
    "### Lets check the performance of version 1 model so that we can add it to production\n"
   ]
  },
  {
   "cell_type": "code",
   "execution_count": 51,
   "metadata": {},
   "outputs": [],
   "source": [
    "def read_dataframe(filename):\n",
    "    if filename.endswith(\".csv\"):\n",
    "        df = pd.read_csv(filename)\n",
    "        df[\"lpep_pickup_datetime\"] = pd.to_datetime(df[\"lpep_pickup_datetime\"])\n",
    "        df[\"lpep_dropoff_datetime\"] = pd.to_datetime(df[\"lpep_dropoff_datetime\"])\n",
    "    elif filename.endswith(\".parquet\"):\n",
    "        df = pd.read_parquet(filename)\n",
    "        \n",
    "    df['duration'] = df[\"lpep_dropoff_datetime\"] - df[\"lpep_pickup_datetime\"]\n",
    "    df['duration'] = df['duration'].apply(lambda td: td.total_seconds()/60)\n",
    "    df = df.loc[(df['duration']>=1) & (df['duration']<=60),:]\n",
    "    \n",
    "    categorical = ['PULocationID', 'DOLocationID']\n",
    "    df[categorical] = df[categorical].astype(str)\n",
    "    \n",
    "    return df\n",
    "\n",
    "def preprocess(df, dv):\n",
    "    df[\"PU_DO\"] = df[\"PULocationID\"] + \"_\" + df[\"DOLocationID\"]\n",
    "    categorical = [\"PU_DO\"]\n",
    "    numerical = [\"trip_distance\"]\n",
    "    train_dicts = df[categorical + numerical].to_dict(orient = 'records')\n",
    "    return dv.transform(train_dicts)\n",
    "\n",
    "# def test_model(stage, X_test, y_test, name = 'nyc-taxi-regressor'):\n",
    "#     model = mlflow.pyfunc.load_model(f\"models:/{name}/{stage}\")\n",
    "#     y_pred = model.predict(X_test)\n",
    "#     return {'rmse': mean_squared_error(y_test, y_pred, squared=False)}\n"
   ]
  },
  {
   "cell_type": "code",
   "execution_count": null,
   "metadata": {},
   "outputs": [],
   "source": [
    "def test_model(stage, X_test, y_test, name = 'nyc-taxi-regressor'):\n",
    "    model = mlflow.pyfunc.load_model(f\"models:/{name}/{stage}\")\n",
    "    y_pred = model.predict(X_test)\n",
    "    return {'rmse': mean_squared_error(y_test, y_pred, squared=False)}"
   ]
  },
  {
   "cell_type": "code",
   "execution_count": 52,
   "metadata": {},
   "outputs": [],
   "source": [
    "df = read_dataframe('data/green_tripdata_2021-03.parquet')"
   ]
  },
  {
   "cell_type": "code",
   "execution_count": 53,
   "metadata": {},
   "outputs": [],
   "source": [
    "import pickle\n",
    "\n",
    "with open('models/preprocessor.b', 'rb') as f_in:\n",
    "    dv = pickle.load(f_in)"
   ]
  },
  {
   "cell_type": "code",
   "execution_count": 54,
   "metadata": {},
   "outputs": [],
   "source": [
    "X_test = preprocess(df, dv)"
   ]
  },
  {
   "cell_type": "code",
   "execution_count": 55,
   "metadata": {},
   "outputs": [],
   "source": [
    "target = 'duration'\n",
    "y_test = df[target].values"
   ]
  },
  {
   "cell_type": "code",
   "execution_count": 56,
   "metadata": {},
   "outputs": [
    {
     "ename": "OSError",
     "evalue": "No such file or directory: './mlruns/1/13f8e1801b2f4063b4d347cf52932578/artifacts/model/.'",
     "output_type": "error",
     "traceback": [
      "\u001b[0;31m---------------------------------------------------------------------------\u001b[0m",
      "\u001b[0;31mOSError\u001b[0m                                   Traceback (most recent call last)",
      "File \u001b[0;32m<timed eval>:1\u001b[0m\n",
      "Cell \u001b[0;32mIn [51], line 26\u001b[0m, in \u001b[0;36mtest_model\u001b[0;34m(stage, X_test, y_test, name)\u001b[0m\n\u001b[1;32m     25\u001b[0m \u001b[39mdef\u001b[39;00m \u001b[39mtest_model\u001b[39m(stage, X_test, y_test, name \u001b[39m=\u001b[39m \u001b[39m'\u001b[39m\u001b[39mnyc-taxi-regressor\u001b[39m\u001b[39m'\u001b[39m):\n\u001b[0;32m---> 26\u001b[0m     model \u001b[39m=\u001b[39m mlflow\u001b[39m.\u001b[39;49mpyfunc\u001b[39m.\u001b[39;49mload_model(\u001b[39mf\u001b[39;49m\u001b[39m\"\u001b[39;49m\u001b[39mmodels:/\u001b[39;49m\u001b[39m{\u001b[39;49;00mname\u001b[39m}\u001b[39;49;00m\u001b[39m/\u001b[39;49m\u001b[39m{\u001b[39;49;00mstage\u001b[39m}\u001b[39;49;00m\u001b[39m\"\u001b[39;49m)\n\u001b[1;32m     27\u001b[0m     y_pred \u001b[39m=\u001b[39m model\u001b[39m.\u001b[39mpredict(X_test)\n\u001b[1;32m     28\u001b[0m     \u001b[39mreturn\u001b[39;00m {\u001b[39m'\u001b[39m\u001b[39mrmse\u001b[39m\u001b[39m'\u001b[39m: mean_squared_error(y_test, y_pred, squared\u001b[39m=\u001b[39m\u001b[39mFalse\u001b[39;00m)}\n",
      "File \u001b[0;32m~/miniconda3/envs/exp-tracking-env/lib/python3.9/site-packages/mlflow/pyfunc/__init__.py:486\u001b[0m, in \u001b[0;36mload_model\u001b[0;34m(model_uri, suppress_warnings, dst_path)\u001b[0m\n\u001b[1;32m    458\u001b[0m \u001b[39mdef\u001b[39;00m \u001b[39mload_model\u001b[39m(\n\u001b[1;32m    459\u001b[0m     model_uri: \u001b[39mstr\u001b[39m,\n\u001b[1;32m    460\u001b[0m     suppress_warnings: \u001b[39mbool\u001b[39m \u001b[39m=\u001b[39m \u001b[39mFalse\u001b[39;00m,\n\u001b[1;32m    461\u001b[0m     dst_path: \u001b[39mstr\u001b[39m \u001b[39m=\u001b[39m \u001b[39mNone\u001b[39;00m,\n\u001b[1;32m    462\u001b[0m ) \u001b[39m-\u001b[39m\u001b[39m>\u001b[39m PyFuncModel:\n\u001b[1;32m    463\u001b[0m     \u001b[39m\"\"\"\u001b[39;00m\n\u001b[1;32m    464\u001b[0m \u001b[39m    Load a model stored in Python function format.\u001b[39;00m\n\u001b[1;32m    465\u001b[0m \n\u001b[0;32m   (...)\u001b[0m\n\u001b[1;32m    484\u001b[0m \u001b[39m                     path will be created.\u001b[39;00m\n\u001b[1;32m    485\u001b[0m \u001b[39m    \"\"\"\u001b[39;00m\n\u001b[0;32m--> 486\u001b[0m     local_path \u001b[39m=\u001b[39m _download_artifact_from_uri(artifact_uri\u001b[39m=\u001b[39;49mmodel_uri, output_path\u001b[39m=\u001b[39;49mdst_path)\n\u001b[1;32m    488\u001b[0m     \u001b[39mif\u001b[39;00m \u001b[39mnot\u001b[39;00m suppress_warnings:\n\u001b[1;32m    489\u001b[0m         _warn_dependency_requirement_mismatches(local_path)\n",
      "File \u001b[0;32m~/miniconda3/envs/exp-tracking-env/lib/python3.9/site-packages/mlflow/tracking/artifact_utils.py:100\u001b[0m, in \u001b[0;36m_download_artifact_from_uri\u001b[0;34m(artifact_uri, output_path)\u001b[0m\n\u001b[1;32m     94\u001b[0m \u001b[39m\"\"\"\u001b[39;00m\n\u001b[1;32m     95\u001b[0m \u001b[39m:param artifact_uri: The *absolute* URI of the artifact to download.\u001b[39;00m\n\u001b[1;32m     96\u001b[0m \u001b[39m:param output_path: The local filesystem path to which to download the artifact. If unspecified,\u001b[39;00m\n\u001b[1;32m     97\u001b[0m \u001b[39m                    a local output path will be created.\u001b[39;00m\n\u001b[1;32m     98\u001b[0m \u001b[39m\"\"\"\u001b[39;00m\n\u001b[1;32m     99\u001b[0m root_uri, artifact_path \u001b[39m=\u001b[39m _get_root_uri_and_artifact_path(artifact_uri)\n\u001b[0;32m--> 100\u001b[0m \u001b[39mreturn\u001b[39;00m get_artifact_repository(artifact_uri\u001b[39m=\u001b[39;49mroot_uri)\u001b[39m.\u001b[39;49mdownload_artifacts(\n\u001b[1;32m    101\u001b[0m     artifact_path\u001b[39m=\u001b[39;49martifact_path, dst_path\u001b[39m=\u001b[39;49moutput_path\n\u001b[1;32m    102\u001b[0m )\n",
      "File \u001b[0;32m~/miniconda3/envs/exp-tracking-env/lib/python3.9/site-packages/mlflow/store/artifact/models_artifact_repo.py:126\u001b[0m, in \u001b[0;36mModelsArtifactRepository.download_artifacts\u001b[0;34m(self, artifact_path, dst_path)\u001b[0m\n\u001b[1;32m    111\u001b[0m \u001b[39mdef\u001b[39;00m \u001b[39mdownload_artifacts\u001b[39m(\u001b[39mself\u001b[39m, artifact_path, dst_path\u001b[39m=\u001b[39m\u001b[39mNone\u001b[39;00m):\n\u001b[1;32m    112\u001b[0m     \u001b[39m\"\"\"\u001b[39;00m\n\u001b[1;32m    113\u001b[0m \u001b[39m    Download an artifact file or directory to a local directory if applicable, and return a\u001b[39;00m\n\u001b[1;32m    114\u001b[0m \u001b[39m    local path for it.\u001b[39;00m\n\u001b[0;32m   (...)\u001b[0m\n\u001b[1;32m    124\u001b[0m \u001b[39m    :return: Absolute path of the local filesystem location containing the desired artifacts.\u001b[39;00m\n\u001b[1;32m    125\u001b[0m \u001b[39m    \"\"\"\u001b[39;00m\n\u001b[0;32m--> 126\u001b[0m     \u001b[39mreturn\u001b[39;00m \u001b[39mself\u001b[39;49m\u001b[39m.\u001b[39;49mrepo\u001b[39m.\u001b[39;49mdownload_artifacts(artifact_path, dst_path)\n",
      "File \u001b[0;32m~/miniconda3/envs/exp-tracking-env/lib/python3.9/site-packages/mlflow/store/artifact/local_artifact_repo.py:79\u001b[0m, in \u001b[0;36mLocalArtifactRepository.download_artifacts\u001b[0;34m(self, artifact_path, dst_path)\u001b[0m\n\u001b[1;32m     77\u001b[0m local_artifact_path \u001b[39m=\u001b[39m os\u001b[39m.\u001b[39mpath\u001b[39m.\u001b[39mjoin(\u001b[39mself\u001b[39m\u001b[39m.\u001b[39martifact_dir, os\u001b[39m.\u001b[39mpath\u001b[39m.\u001b[39mnormpath(artifact_path))\n\u001b[1;32m     78\u001b[0m \u001b[39mif\u001b[39;00m \u001b[39mnot\u001b[39;00m os\u001b[39m.\u001b[39mpath\u001b[39m.\u001b[39mexists(local_artifact_path):\n\u001b[0;32m---> 79\u001b[0m     \u001b[39mraise\u001b[39;00m \u001b[39mIOError\u001b[39;00m(\u001b[39m\"\u001b[39m\u001b[39mNo such file or directory: \u001b[39m\u001b[39m'\u001b[39m\u001b[39m{}\u001b[39;00m\u001b[39m'\u001b[39m\u001b[39m\"\u001b[39m\u001b[39m.\u001b[39mformat(local_artifact_path))\n\u001b[1;32m     80\u001b[0m \u001b[39mreturn\u001b[39;00m os\u001b[39m.\u001b[39mpath\u001b[39m.\u001b[39mabspath(local_artifact_path)\n",
      "\u001b[0;31mOSError\u001b[0m: No such file or directory: './mlruns/1/13f8e1801b2f4063b4d347cf52932578/artifacts/model/.'"
     ]
    }
   ],
   "source": [
    "%time test_model(name = model_name, stage = \"Production\", X_test = X_test, y_test = y_test)"
   ]
  },
  {
   "cell_type": "code",
   "execution_count": 66,
   "metadata": {},
   "outputs": [
    {
     "name": "stdout",
     "output_type": "stream",
     "text": [
      "[14:31:36] WARNING: ../src/objective/regression_obj.cu:203: reg:linear is now deprecated in favor of reg:squarederror.\n"
     ]
    }
   ],
   "source": [
    "import mlflow\n",
    "logged_model = 'runs:/f7836a9cd7fd4d06b6c89020443e68b2/models_mlflow'\n",
    "\n",
    "# Load model as a PyFuncModel.\n",
    "loaded_model = mlflow.pyfunc.load_model(logged_model)"
   ]
  },
  {
   "cell_type": "code",
   "execution_count": null,
   "metadata": {},
   "outputs": [],
   "source": []
  }
 ],
 "metadata": {
  "kernelspec": {
   "display_name": "Python 3.9.13 ('exp-tracking-env')",
   "language": "python",
   "name": "python3"
  },
  "language_info": {
   "codemirror_mode": {
    "name": "ipython",
    "version": 3
   },
   "file_extension": ".py",
   "mimetype": "text/x-python",
   "name": "python",
   "nbconvert_exporter": "python",
   "pygments_lexer": "ipython3",
   "version": "3.9.13"
  },
  "orig_nbformat": 4,
  "vscode": {
   "interpreter": {
    "hash": "8dc19db2777474ed960825c69f0c4ff4a9be03f872fbdef2f846bcf5f6cc8ff0"
   }
  }
 },
 "nbformat": 4,
 "nbformat_minor": 2
}
